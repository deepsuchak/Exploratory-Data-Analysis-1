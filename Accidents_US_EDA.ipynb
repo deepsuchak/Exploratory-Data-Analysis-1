{
  "nbformat": 4,
  "nbformat_minor": 0,
  "metadata": {
    "colab": {
      "name": "Accidents1.ipynb",
      "provenance": []
    },
    "kernelspec": {
      "name": "python3",
      "display_name": "Python 3"
    },
    "language_info": {
      "name": "python"
    }
  },
  "cells": [
    {
      "cell_type": "markdown",
      "source": [
        "#Data Preparation and Cleaning"
      ],
      "metadata": {
        "id": "8FIfUego-kVG"
      }
    },
    {
      "cell_type": "markdown",
      "source": [
        "Data Set Used- https://www.kaggle.com/datasets/sobhanmoosavi/us-accidents?resource=download"
      ],
      "metadata": {
        "id": "Ivi2oLcfRFWV"
      }
    },
    {
      "cell_type": "markdown",
      "source": [
        "\n",
        "1.   Load the file using Pandas\n",
        "2.   Look at some information about the data & the columns\n",
        "3.   Fix any missing or incorrect values\n"
      ],
      "metadata": {
        "id": "vETNK8XM_O_U"
      }
    },
    {
      "cell_type": "code",
      "source": [
        "df=pd.read_csv(\"/content/drive/MyDrive/Project/US_Accidents_Dec21_updated.csv\")"
      ],
      "metadata": {
        "id": "0MbcxDS_81Fc"
      },
      "execution_count": 2,
      "outputs": []
    },
    {
      "cell_type": "code",
      "source": [
        "df.head()\n"
      ],
      "metadata": {
        "colab": {
          "base_uri": "https://localhost:8080/",
          "height": 508
        },
        "id": "lNvf2uxe81lr",
        "outputId": "bd2b1537-bdaf-4355-a1ea-8a8dbd244b63"
      },
      "execution_count": 3,
      "outputs": [
        {
          "output_type": "execute_result",
          "data": {
            "text/plain": [
              "    ID  Severity           Start_Time             End_Time  Start_Lat  \\\n",
              "0  A-1         3  2016-02-08 00:37:08  2016-02-08 06:37:08  40.108910   \n",
              "1  A-2         2  2016-02-08 05:56:20  2016-02-08 11:56:20  39.865420   \n",
              "2  A-3         2  2016-02-08 06:15:39  2016-02-08 12:15:39  39.102660   \n",
              "3  A-4         2  2016-02-08 06:51:45  2016-02-08 12:51:45  41.062130   \n",
              "4  A-5         3  2016-02-08 07:53:43  2016-02-08 13:53:43  39.172393   \n",
              "\n",
              "   Start_Lng    End_Lat    End_Lng  Distance(mi)  \\\n",
              "0 -83.092860  40.112060 -83.031870         3.230   \n",
              "1 -84.062800  39.865010 -84.048730         0.747   \n",
              "2 -84.524680  39.102090 -84.523960         0.055   \n",
              "3 -81.537840  41.062170 -81.535470         0.123   \n",
              "4 -84.492792  39.170476 -84.501798         0.500   \n",
              "\n",
              "                                         Description  ...  Roundabout Station  \\\n",
              "0  Between Sawmill Rd/Exit 20 and OH-315/Olentang...  ...       False   False   \n",
              "1                 At OH-4/OH-235/Exit 41 - Accident.  ...       False   False   \n",
              "2                   At I-71/US-50/Exit 1 - Accident.  ...       False   False   \n",
              "3                    At Dart Ave/Exit 21 - Accident.  ...       False   False   \n",
              "4                 At Mitchell Ave/Exit 6 - Accident.  ...       False   False   \n",
              "\n",
              "    Stop Traffic_Calming Traffic_Signal Turning_Loop Sunrise_Sunset  \\\n",
              "0  False           False          False        False          Night   \n",
              "1  False           False          False        False          Night   \n",
              "2  False           False          False        False          Night   \n",
              "3  False           False          False        False          Night   \n",
              "4  False           False          False        False            Day   \n",
              "\n",
              "  Civil_Twilight Nautical_Twilight Astronomical_Twilight  \n",
              "0          Night             Night                 Night  \n",
              "1          Night             Night                 Night  \n",
              "2          Night             Night                   Day  \n",
              "3          Night               Day                   Day  \n",
              "4            Day               Day                   Day  \n",
              "\n",
              "[5 rows x 47 columns]"
            ],
            "text/html": [
              "\n",
              "  <div id=\"df-d84ffb7c-b62f-435c-bb9a-9e8e809799db\">\n",
              "    <div class=\"colab-df-container\">\n",
              "      <div>\n",
              "<style scoped>\n",
              "    .dataframe tbody tr th:only-of-type {\n",
              "        vertical-align: middle;\n",
              "    }\n",
              "\n",
              "    .dataframe tbody tr th {\n",
              "        vertical-align: top;\n",
              "    }\n",
              "\n",
              "    .dataframe thead th {\n",
              "        text-align: right;\n",
              "    }\n",
              "</style>\n",
              "<table border=\"1\" class=\"dataframe\">\n",
              "  <thead>\n",
              "    <tr style=\"text-align: right;\">\n",
              "      <th></th>\n",
              "      <th>ID</th>\n",
              "      <th>Severity</th>\n",
              "      <th>Start_Time</th>\n",
              "      <th>End_Time</th>\n",
              "      <th>Start_Lat</th>\n",
              "      <th>Start_Lng</th>\n",
              "      <th>End_Lat</th>\n",
              "      <th>End_Lng</th>\n",
              "      <th>Distance(mi)</th>\n",
              "      <th>Description</th>\n",
              "      <th>...</th>\n",
              "      <th>Roundabout</th>\n",
              "      <th>Station</th>\n",
              "      <th>Stop</th>\n",
              "      <th>Traffic_Calming</th>\n",
              "      <th>Traffic_Signal</th>\n",
              "      <th>Turning_Loop</th>\n",
              "      <th>Sunrise_Sunset</th>\n",
              "      <th>Civil_Twilight</th>\n",
              "      <th>Nautical_Twilight</th>\n",
              "      <th>Astronomical_Twilight</th>\n",
              "    </tr>\n",
              "  </thead>\n",
              "  <tbody>\n",
              "    <tr>\n",
              "      <th>0</th>\n",
              "      <td>A-1</td>\n",
              "      <td>3</td>\n",
              "      <td>2016-02-08 00:37:08</td>\n",
              "      <td>2016-02-08 06:37:08</td>\n",
              "      <td>40.108910</td>\n",
              "      <td>-83.092860</td>\n",
              "      <td>40.112060</td>\n",
              "      <td>-83.031870</td>\n",
              "      <td>3.230</td>\n",
              "      <td>Between Sawmill Rd/Exit 20 and OH-315/Olentang...</td>\n",
              "      <td>...</td>\n",
              "      <td>False</td>\n",
              "      <td>False</td>\n",
              "      <td>False</td>\n",
              "      <td>False</td>\n",
              "      <td>False</td>\n",
              "      <td>False</td>\n",
              "      <td>Night</td>\n",
              "      <td>Night</td>\n",
              "      <td>Night</td>\n",
              "      <td>Night</td>\n",
              "    </tr>\n",
              "    <tr>\n",
              "      <th>1</th>\n",
              "      <td>A-2</td>\n",
              "      <td>2</td>\n",
              "      <td>2016-02-08 05:56:20</td>\n",
              "      <td>2016-02-08 11:56:20</td>\n",
              "      <td>39.865420</td>\n",
              "      <td>-84.062800</td>\n",
              "      <td>39.865010</td>\n",
              "      <td>-84.048730</td>\n",
              "      <td>0.747</td>\n",
              "      <td>At OH-4/OH-235/Exit 41 - Accident.</td>\n",
              "      <td>...</td>\n",
              "      <td>False</td>\n",
              "      <td>False</td>\n",
              "      <td>False</td>\n",
              "      <td>False</td>\n",
              "      <td>False</td>\n",
              "      <td>False</td>\n",
              "      <td>Night</td>\n",
              "      <td>Night</td>\n",
              "      <td>Night</td>\n",
              "      <td>Night</td>\n",
              "    </tr>\n",
              "    <tr>\n",
              "      <th>2</th>\n",
              "      <td>A-3</td>\n",
              "      <td>2</td>\n",
              "      <td>2016-02-08 06:15:39</td>\n",
              "      <td>2016-02-08 12:15:39</td>\n",
              "      <td>39.102660</td>\n",
              "      <td>-84.524680</td>\n",
              "      <td>39.102090</td>\n",
              "      <td>-84.523960</td>\n",
              "      <td>0.055</td>\n",
              "      <td>At I-71/US-50/Exit 1 - Accident.</td>\n",
              "      <td>...</td>\n",
              "      <td>False</td>\n",
              "      <td>False</td>\n",
              "      <td>False</td>\n",
              "      <td>False</td>\n",
              "      <td>False</td>\n",
              "      <td>False</td>\n",
              "      <td>Night</td>\n",
              "      <td>Night</td>\n",
              "      <td>Night</td>\n",
              "      <td>Day</td>\n",
              "    </tr>\n",
              "    <tr>\n",
              "      <th>3</th>\n",
              "      <td>A-4</td>\n",
              "      <td>2</td>\n",
              "      <td>2016-02-08 06:51:45</td>\n",
              "      <td>2016-02-08 12:51:45</td>\n",
              "      <td>41.062130</td>\n",
              "      <td>-81.537840</td>\n",
              "      <td>41.062170</td>\n",
              "      <td>-81.535470</td>\n",
              "      <td>0.123</td>\n",
              "      <td>At Dart Ave/Exit 21 - Accident.</td>\n",
              "      <td>...</td>\n",
              "      <td>False</td>\n",
              "      <td>False</td>\n",
              "      <td>False</td>\n",
              "      <td>False</td>\n",
              "      <td>False</td>\n",
              "      <td>False</td>\n",
              "      <td>Night</td>\n",
              "      <td>Night</td>\n",
              "      <td>Day</td>\n",
              "      <td>Day</td>\n",
              "    </tr>\n",
              "    <tr>\n",
              "      <th>4</th>\n",
              "      <td>A-5</td>\n",
              "      <td>3</td>\n",
              "      <td>2016-02-08 07:53:43</td>\n",
              "      <td>2016-02-08 13:53:43</td>\n",
              "      <td>39.172393</td>\n",
              "      <td>-84.492792</td>\n",
              "      <td>39.170476</td>\n",
              "      <td>-84.501798</td>\n",
              "      <td>0.500</td>\n",
              "      <td>At Mitchell Ave/Exit 6 - Accident.</td>\n",
              "      <td>...</td>\n",
              "      <td>False</td>\n",
              "      <td>False</td>\n",
              "      <td>False</td>\n",
              "      <td>False</td>\n",
              "      <td>False</td>\n",
              "      <td>False</td>\n",
              "      <td>Day</td>\n",
              "      <td>Day</td>\n",
              "      <td>Day</td>\n",
              "      <td>Day</td>\n",
              "    </tr>\n",
              "  </tbody>\n",
              "</table>\n",
              "<p>5 rows × 47 columns</p>\n",
              "</div>\n",
              "      <button class=\"colab-df-convert\" onclick=\"convertToInteractive('df-d84ffb7c-b62f-435c-bb9a-9e8e809799db')\"\n",
              "              title=\"Convert this dataframe to an interactive table.\"\n",
              "              style=\"display:none;\">\n",
              "        \n",
              "  <svg xmlns=\"http://www.w3.org/2000/svg\" height=\"24px\"viewBox=\"0 0 24 24\"\n",
              "       width=\"24px\">\n",
              "    <path d=\"M0 0h24v24H0V0z\" fill=\"none\"/>\n",
              "    <path d=\"M18.56 5.44l.94 2.06.94-2.06 2.06-.94-2.06-.94-.94-2.06-.94 2.06-2.06.94zm-11 1L8.5 8.5l.94-2.06 2.06-.94-2.06-.94L8.5 2.5l-.94 2.06-2.06.94zm10 10l.94 2.06.94-2.06 2.06-.94-2.06-.94-.94-2.06-.94 2.06-2.06.94z\"/><path d=\"M17.41 7.96l-1.37-1.37c-.4-.4-.92-.59-1.43-.59-.52 0-1.04.2-1.43.59L10.3 9.45l-7.72 7.72c-.78.78-.78 2.05 0 2.83L4 21.41c.39.39.9.59 1.41.59.51 0 1.02-.2 1.41-.59l7.78-7.78 2.81-2.81c.8-.78.8-2.07 0-2.86zM5.41 20L4 18.59l7.72-7.72 1.47 1.35L5.41 20z\"/>\n",
              "  </svg>\n",
              "      </button>\n",
              "      \n",
              "  <style>\n",
              "    .colab-df-container {\n",
              "      display:flex;\n",
              "      flex-wrap:wrap;\n",
              "      gap: 12px;\n",
              "    }\n",
              "\n",
              "    .colab-df-convert {\n",
              "      background-color: #E8F0FE;\n",
              "      border: none;\n",
              "      border-radius: 50%;\n",
              "      cursor: pointer;\n",
              "      display: none;\n",
              "      fill: #1967D2;\n",
              "      height: 32px;\n",
              "      padding: 0 0 0 0;\n",
              "      width: 32px;\n",
              "    }\n",
              "\n",
              "    .colab-df-convert:hover {\n",
              "      background-color: #E2EBFA;\n",
              "      box-shadow: 0px 1px 2px rgba(60, 64, 67, 0.3), 0px 1px 3px 1px rgba(60, 64, 67, 0.15);\n",
              "      fill: #174EA6;\n",
              "    }\n",
              "\n",
              "    [theme=dark] .colab-df-convert {\n",
              "      background-color: #3B4455;\n",
              "      fill: #D2E3FC;\n",
              "    }\n",
              "\n",
              "    [theme=dark] .colab-df-convert:hover {\n",
              "      background-color: #434B5C;\n",
              "      box-shadow: 0px 1px 3px 1px rgba(0, 0, 0, 0.15);\n",
              "      filter: drop-shadow(0px 1px 2px rgba(0, 0, 0, 0.3));\n",
              "      fill: #FFFFFF;\n",
              "    }\n",
              "  </style>\n",
              "\n",
              "      <script>\n",
              "        const buttonEl =\n",
              "          document.querySelector('#df-d84ffb7c-b62f-435c-bb9a-9e8e809799db button.colab-df-convert');\n",
              "        buttonEl.style.display =\n",
              "          google.colab.kernel.accessAllowed ? 'block' : 'none';\n",
              "\n",
              "        async function convertToInteractive(key) {\n",
              "          const element = document.querySelector('#df-d84ffb7c-b62f-435c-bb9a-9e8e809799db');\n",
              "          const dataTable =\n",
              "            await google.colab.kernel.invokeFunction('convertToInteractive',\n",
              "                                                     [key], {});\n",
              "          if (!dataTable) return;\n",
              "\n",
              "          const docLinkHtml = 'Like what you see? Visit the ' +\n",
              "            '<a target=\"_blank\" href=https://colab.research.google.com/notebooks/data_table.ipynb>data table notebook</a>'\n",
              "            + ' to learn more about interactive tables.';\n",
              "          element.innerHTML = '';\n",
              "          dataTable['output_type'] = 'display_data';\n",
              "          await google.colab.output.renderOutput(dataTable, element);\n",
              "          const docLink = document.createElement('div');\n",
              "          docLink.innerHTML = docLinkHtml;\n",
              "          element.appendChild(docLink);\n",
              "        }\n",
              "      </script>\n",
              "    </div>\n",
              "  </div>\n",
              "  "
            ]
          },
          "metadata": {},
          "execution_count": 3
        }
      ]
    },
    {
      "cell_type": "code",
      "source": [
        "df.info()"
      ],
      "metadata": {
        "colab": {
          "base_uri": "https://localhost:8080/"
        },
        "id": "90XmXZLm81rf",
        "outputId": "61ac227b-eed1-44d4-e069-354b44181dea"
      },
      "execution_count": 4,
      "outputs": [
        {
          "output_type": "stream",
          "name": "stdout",
          "text": [
            "<class 'pandas.core.frame.DataFrame'>\n",
            "RangeIndex: 2845342 entries, 0 to 2845341\n",
            "Data columns (total 47 columns):\n",
            " #   Column                 Dtype  \n",
            "---  ------                 -----  \n",
            " 0   ID                     object \n",
            " 1   Severity               int64  \n",
            " 2   Start_Time             object \n",
            " 3   End_Time               object \n",
            " 4   Start_Lat              float64\n",
            " 5   Start_Lng              float64\n",
            " 6   End_Lat                float64\n",
            " 7   End_Lng                float64\n",
            " 8   Distance(mi)           float64\n",
            " 9   Description            object \n",
            " 10  Number                 float64\n",
            " 11  Street                 object \n",
            " 12  Side                   object \n",
            " 13  City                   object \n",
            " 14  County                 object \n",
            " 15  State                  object \n",
            " 16  Zipcode                object \n",
            " 17  Country                object \n",
            " 18  Timezone               object \n",
            " 19  Airport_Code           object \n",
            " 20  Weather_Timestamp      object \n",
            " 21  Temperature(F)         float64\n",
            " 22  Wind_Chill(F)          float64\n",
            " 23  Humidity(%)            float64\n",
            " 24  Pressure(in)           float64\n",
            " 25  Visibility(mi)         float64\n",
            " 26  Wind_Direction         object \n",
            " 27  Wind_Speed(mph)        float64\n",
            " 28  Precipitation(in)      float64\n",
            " 29  Weather_Condition      object \n",
            " 30  Amenity                bool   \n",
            " 31  Bump                   bool   \n",
            " 32  Crossing               bool   \n",
            " 33  Give_Way               bool   \n",
            " 34  Junction               bool   \n",
            " 35  No_Exit                bool   \n",
            " 36  Railway                bool   \n",
            " 37  Roundabout             bool   \n",
            " 38  Station                bool   \n",
            " 39  Stop                   bool   \n",
            " 40  Traffic_Calming        bool   \n",
            " 41  Traffic_Signal         bool   \n",
            " 42  Turning_Loop           bool   \n",
            " 43  Sunrise_Sunset         object \n",
            " 44  Civil_Twilight         object \n",
            " 45  Nautical_Twilight      object \n",
            " 46  Astronomical_Twilight  object \n",
            "dtypes: bool(13), float64(13), int64(1), object(20)\n",
            "memory usage: 773.4+ MB\n"
          ]
        }
      ]
    },
    {
      "cell_type": "code",
      "source": [
        "df.describe()"
      ],
      "metadata": {
        "colab": {
          "base_uri": "https://localhost:8080/",
          "height": 364
        },
        "id": "948dl55081ty",
        "outputId": "ad6b5eb1-d585-456b-bc2e-f7ccda08b19b"
      },
      "execution_count": 5,
      "outputs": [
        {
          "output_type": "execute_result",
          "data": {
            "text/plain": [
              "           Severity     Start_Lat     Start_Lng       End_Lat       End_Lng  \\\n",
              "count  2.845342e+06  2.845342e+06  2.845342e+06  2.845342e+06  2.845342e+06   \n",
              "mean   2.137572e+00  3.624520e+01 -9.711463e+01  3.624532e+01 -9.711439e+01   \n",
              "std    4.787216e-01  5.363797e+00  1.831782e+01  5.363873e+00  1.831763e+01   \n",
              "min    1.000000e+00  2.456603e+01 -1.245481e+02  2.456601e+01 -1.245457e+02   \n",
              "25%    2.000000e+00  3.344517e+01 -1.180331e+02  3.344628e+01 -1.180333e+02   \n",
              "50%    2.000000e+00  3.609861e+01 -9.241808e+01  3.609799e+01 -9.241772e+01   \n",
              "75%    2.000000e+00  4.016024e+01 -8.037243e+01  4.016105e+01 -8.037338e+01   \n",
              "max    4.000000e+00  4.900058e+01 -6.711317e+01  4.907500e+01 -6.710924e+01   \n",
              "\n",
              "       Distance(mi)        Number  Temperature(F)  Wind_Chill(F)  \\\n",
              "count  2.845342e+06  1.101431e+06    2.776068e+06   2.375699e+06   \n",
              "mean   7.026779e-01  8.089408e+03    6.179356e+01   5.965823e+01   \n",
              "std    1.560361e+00  1.836009e+04    1.862263e+01   2.116097e+01   \n",
              "min    0.000000e+00  0.000000e+00   -8.900000e+01  -8.900000e+01   \n",
              "25%    5.200000e-02  1.270000e+03    5.000000e+01   4.600000e+01   \n",
              "50%    2.440000e-01  4.007000e+03    6.400000e+01   6.300000e+01   \n",
              "75%    7.640000e-01  9.567000e+03    7.600000e+01   7.600000e+01   \n",
              "max    1.551860e+02  9.999997e+06    1.960000e+02   1.960000e+02   \n",
              "\n",
              "        Humidity(%)  Pressure(in)  Visibility(mi)  Wind_Speed(mph)  \\\n",
              "count  2.772250e+06  2.786142e+06    2.774796e+06     2.687398e+06   \n",
              "mean   6.436545e+01  2.947234e+01    9.099391e+00     7.395044e+00   \n",
              "std    2.287457e+01  1.045286e+00    2.717546e+00     5.527454e+00   \n",
              "min    1.000000e+00  0.000000e+00    0.000000e+00     0.000000e+00   \n",
              "25%    4.800000e+01  2.931000e+01    1.000000e+01     3.500000e+00   \n",
              "50%    6.700000e+01  2.982000e+01    1.000000e+01     7.000000e+00   \n",
              "75%    8.300000e+01  3.001000e+01    1.000000e+01     1.000000e+01   \n",
              "max    1.000000e+02  5.890000e+01    1.400000e+02     1.087000e+03   \n",
              "\n",
              "       Precipitation(in)  \n",
              "count       2.295884e+06  \n",
              "mean        7.016940e-03  \n",
              "std         9.348831e-02  \n",
              "min         0.000000e+00  \n",
              "25%         0.000000e+00  \n",
              "50%         0.000000e+00  \n",
              "75%         0.000000e+00  \n",
              "max         2.400000e+01  "
            ],
            "text/html": [
              "\n",
              "  <div id=\"df-6102a31b-9b46-4315-a044-2143d2f92544\">\n",
              "    <div class=\"colab-df-container\">\n",
              "      <div>\n",
              "<style scoped>\n",
              "    .dataframe tbody tr th:only-of-type {\n",
              "        vertical-align: middle;\n",
              "    }\n",
              "\n",
              "    .dataframe tbody tr th {\n",
              "        vertical-align: top;\n",
              "    }\n",
              "\n",
              "    .dataframe thead th {\n",
              "        text-align: right;\n",
              "    }\n",
              "</style>\n",
              "<table border=\"1\" class=\"dataframe\">\n",
              "  <thead>\n",
              "    <tr style=\"text-align: right;\">\n",
              "      <th></th>\n",
              "      <th>Severity</th>\n",
              "      <th>Start_Lat</th>\n",
              "      <th>Start_Lng</th>\n",
              "      <th>End_Lat</th>\n",
              "      <th>End_Lng</th>\n",
              "      <th>Distance(mi)</th>\n",
              "      <th>Number</th>\n",
              "      <th>Temperature(F)</th>\n",
              "      <th>Wind_Chill(F)</th>\n",
              "      <th>Humidity(%)</th>\n",
              "      <th>Pressure(in)</th>\n",
              "      <th>Visibility(mi)</th>\n",
              "      <th>Wind_Speed(mph)</th>\n",
              "      <th>Precipitation(in)</th>\n",
              "    </tr>\n",
              "  </thead>\n",
              "  <tbody>\n",
              "    <tr>\n",
              "      <th>count</th>\n",
              "      <td>2.845342e+06</td>\n",
              "      <td>2.845342e+06</td>\n",
              "      <td>2.845342e+06</td>\n",
              "      <td>2.845342e+06</td>\n",
              "      <td>2.845342e+06</td>\n",
              "      <td>2.845342e+06</td>\n",
              "      <td>1.101431e+06</td>\n",
              "      <td>2.776068e+06</td>\n",
              "      <td>2.375699e+06</td>\n",
              "      <td>2.772250e+06</td>\n",
              "      <td>2.786142e+06</td>\n",
              "      <td>2.774796e+06</td>\n",
              "      <td>2.687398e+06</td>\n",
              "      <td>2.295884e+06</td>\n",
              "    </tr>\n",
              "    <tr>\n",
              "      <th>mean</th>\n",
              "      <td>2.137572e+00</td>\n",
              "      <td>3.624520e+01</td>\n",
              "      <td>-9.711463e+01</td>\n",
              "      <td>3.624532e+01</td>\n",
              "      <td>-9.711439e+01</td>\n",
              "      <td>7.026779e-01</td>\n",
              "      <td>8.089408e+03</td>\n",
              "      <td>6.179356e+01</td>\n",
              "      <td>5.965823e+01</td>\n",
              "      <td>6.436545e+01</td>\n",
              "      <td>2.947234e+01</td>\n",
              "      <td>9.099391e+00</td>\n",
              "      <td>7.395044e+00</td>\n",
              "      <td>7.016940e-03</td>\n",
              "    </tr>\n",
              "    <tr>\n",
              "      <th>std</th>\n",
              "      <td>4.787216e-01</td>\n",
              "      <td>5.363797e+00</td>\n",
              "      <td>1.831782e+01</td>\n",
              "      <td>5.363873e+00</td>\n",
              "      <td>1.831763e+01</td>\n",
              "      <td>1.560361e+00</td>\n",
              "      <td>1.836009e+04</td>\n",
              "      <td>1.862263e+01</td>\n",
              "      <td>2.116097e+01</td>\n",
              "      <td>2.287457e+01</td>\n",
              "      <td>1.045286e+00</td>\n",
              "      <td>2.717546e+00</td>\n",
              "      <td>5.527454e+00</td>\n",
              "      <td>9.348831e-02</td>\n",
              "    </tr>\n",
              "    <tr>\n",
              "      <th>min</th>\n",
              "      <td>1.000000e+00</td>\n",
              "      <td>2.456603e+01</td>\n",
              "      <td>-1.245481e+02</td>\n",
              "      <td>2.456601e+01</td>\n",
              "      <td>-1.245457e+02</td>\n",
              "      <td>0.000000e+00</td>\n",
              "      <td>0.000000e+00</td>\n",
              "      <td>-8.900000e+01</td>\n",
              "      <td>-8.900000e+01</td>\n",
              "      <td>1.000000e+00</td>\n",
              "      <td>0.000000e+00</td>\n",
              "      <td>0.000000e+00</td>\n",
              "      <td>0.000000e+00</td>\n",
              "      <td>0.000000e+00</td>\n",
              "    </tr>\n",
              "    <tr>\n",
              "      <th>25%</th>\n",
              "      <td>2.000000e+00</td>\n",
              "      <td>3.344517e+01</td>\n",
              "      <td>-1.180331e+02</td>\n",
              "      <td>3.344628e+01</td>\n",
              "      <td>-1.180333e+02</td>\n",
              "      <td>5.200000e-02</td>\n",
              "      <td>1.270000e+03</td>\n",
              "      <td>5.000000e+01</td>\n",
              "      <td>4.600000e+01</td>\n",
              "      <td>4.800000e+01</td>\n",
              "      <td>2.931000e+01</td>\n",
              "      <td>1.000000e+01</td>\n",
              "      <td>3.500000e+00</td>\n",
              "      <td>0.000000e+00</td>\n",
              "    </tr>\n",
              "    <tr>\n",
              "      <th>50%</th>\n",
              "      <td>2.000000e+00</td>\n",
              "      <td>3.609861e+01</td>\n",
              "      <td>-9.241808e+01</td>\n",
              "      <td>3.609799e+01</td>\n",
              "      <td>-9.241772e+01</td>\n",
              "      <td>2.440000e-01</td>\n",
              "      <td>4.007000e+03</td>\n",
              "      <td>6.400000e+01</td>\n",
              "      <td>6.300000e+01</td>\n",
              "      <td>6.700000e+01</td>\n",
              "      <td>2.982000e+01</td>\n",
              "      <td>1.000000e+01</td>\n",
              "      <td>7.000000e+00</td>\n",
              "      <td>0.000000e+00</td>\n",
              "    </tr>\n",
              "    <tr>\n",
              "      <th>75%</th>\n",
              "      <td>2.000000e+00</td>\n",
              "      <td>4.016024e+01</td>\n",
              "      <td>-8.037243e+01</td>\n",
              "      <td>4.016105e+01</td>\n",
              "      <td>-8.037338e+01</td>\n",
              "      <td>7.640000e-01</td>\n",
              "      <td>9.567000e+03</td>\n",
              "      <td>7.600000e+01</td>\n",
              "      <td>7.600000e+01</td>\n",
              "      <td>8.300000e+01</td>\n",
              "      <td>3.001000e+01</td>\n",
              "      <td>1.000000e+01</td>\n",
              "      <td>1.000000e+01</td>\n",
              "      <td>0.000000e+00</td>\n",
              "    </tr>\n",
              "    <tr>\n",
              "      <th>max</th>\n",
              "      <td>4.000000e+00</td>\n",
              "      <td>4.900058e+01</td>\n",
              "      <td>-6.711317e+01</td>\n",
              "      <td>4.907500e+01</td>\n",
              "      <td>-6.710924e+01</td>\n",
              "      <td>1.551860e+02</td>\n",
              "      <td>9.999997e+06</td>\n",
              "      <td>1.960000e+02</td>\n",
              "      <td>1.960000e+02</td>\n",
              "      <td>1.000000e+02</td>\n",
              "      <td>5.890000e+01</td>\n",
              "      <td>1.400000e+02</td>\n",
              "      <td>1.087000e+03</td>\n",
              "      <td>2.400000e+01</td>\n",
              "    </tr>\n",
              "  </tbody>\n",
              "</table>\n",
              "</div>\n",
              "      <button class=\"colab-df-convert\" onclick=\"convertToInteractive('df-6102a31b-9b46-4315-a044-2143d2f92544')\"\n",
              "              title=\"Convert this dataframe to an interactive table.\"\n",
              "              style=\"display:none;\">\n",
              "        \n",
              "  <svg xmlns=\"http://www.w3.org/2000/svg\" height=\"24px\"viewBox=\"0 0 24 24\"\n",
              "       width=\"24px\">\n",
              "    <path d=\"M0 0h24v24H0V0z\" fill=\"none\"/>\n",
              "    <path d=\"M18.56 5.44l.94 2.06.94-2.06 2.06-.94-2.06-.94-.94-2.06-.94 2.06-2.06.94zm-11 1L8.5 8.5l.94-2.06 2.06-.94-2.06-.94L8.5 2.5l-.94 2.06-2.06.94zm10 10l.94 2.06.94-2.06 2.06-.94-2.06-.94-.94-2.06-.94 2.06-2.06.94z\"/><path d=\"M17.41 7.96l-1.37-1.37c-.4-.4-.92-.59-1.43-.59-.52 0-1.04.2-1.43.59L10.3 9.45l-7.72 7.72c-.78.78-.78 2.05 0 2.83L4 21.41c.39.39.9.59 1.41.59.51 0 1.02-.2 1.41-.59l7.78-7.78 2.81-2.81c.8-.78.8-2.07 0-2.86zM5.41 20L4 18.59l7.72-7.72 1.47 1.35L5.41 20z\"/>\n",
              "  </svg>\n",
              "      </button>\n",
              "      \n",
              "  <style>\n",
              "    .colab-df-container {\n",
              "      display:flex;\n",
              "      flex-wrap:wrap;\n",
              "      gap: 12px;\n",
              "    }\n",
              "\n",
              "    .colab-df-convert {\n",
              "      background-color: #E8F0FE;\n",
              "      border: none;\n",
              "      border-radius: 50%;\n",
              "      cursor: pointer;\n",
              "      display: none;\n",
              "      fill: #1967D2;\n",
              "      height: 32px;\n",
              "      padding: 0 0 0 0;\n",
              "      width: 32px;\n",
              "    }\n",
              "\n",
              "    .colab-df-convert:hover {\n",
              "      background-color: #E2EBFA;\n",
              "      box-shadow: 0px 1px 2px rgba(60, 64, 67, 0.3), 0px 1px 3px 1px rgba(60, 64, 67, 0.15);\n",
              "      fill: #174EA6;\n",
              "    }\n",
              "\n",
              "    [theme=dark] .colab-df-convert {\n",
              "      background-color: #3B4455;\n",
              "      fill: #D2E3FC;\n",
              "    }\n",
              "\n",
              "    [theme=dark] .colab-df-convert:hover {\n",
              "      background-color: #434B5C;\n",
              "      box-shadow: 0px 1px 3px 1px rgba(0, 0, 0, 0.15);\n",
              "      filter: drop-shadow(0px 1px 2px rgba(0, 0, 0, 0.3));\n",
              "      fill: #FFFFFF;\n",
              "    }\n",
              "  </style>\n",
              "\n",
              "      <script>\n",
              "        const buttonEl =\n",
              "          document.querySelector('#df-6102a31b-9b46-4315-a044-2143d2f92544 button.colab-df-convert');\n",
              "        buttonEl.style.display =\n",
              "          google.colab.kernel.accessAllowed ? 'block' : 'none';\n",
              "\n",
              "        async function convertToInteractive(key) {\n",
              "          const element = document.querySelector('#df-6102a31b-9b46-4315-a044-2143d2f92544');\n",
              "          const dataTable =\n",
              "            await google.colab.kernel.invokeFunction('convertToInteractive',\n",
              "                                                     [key], {});\n",
              "          if (!dataTable) return;\n",
              "\n",
              "          const docLinkHtml = 'Like what you see? Visit the ' +\n",
              "            '<a target=\"_blank\" href=https://colab.research.google.com/notebooks/data_table.ipynb>data table notebook</a>'\n",
              "            + ' to learn more about interactive tables.';\n",
              "          element.innerHTML = '';\n",
              "          dataTable['output_type'] = 'display_data';\n",
              "          await google.colab.output.renderOutput(dataTable, element);\n",
              "          const docLink = document.createElement('div');\n",
              "          docLink.innerHTML = docLinkHtml;\n",
              "          element.appendChild(docLink);\n",
              "        }\n",
              "      </script>\n",
              "    </div>\n",
              "  </div>\n",
              "  "
            ]
          },
          "metadata": {},
          "execution_count": 5
        }
      ]
    },
    {
      "cell_type": "code",
      "source": [
        "numerics = ['int16', 'int32', 'int64', 'float16', 'float32', 'float64']\n",
        "\n",
        "numeric_df = df.select_dtypes(include=numerics)\n",
        "len(numeric_df.columns)"
      ],
      "metadata": {
        "colab": {
          "base_uri": "https://localhost:8080/"
        },
        "id": "zEMWSSSl81w8",
        "outputId": "919fa8b8-e6c9-4e78-8cd7-fdbd8b9eb660"
      },
      "execution_count": 6,
      "outputs": [
        {
          "output_type": "execute_result",
          "data": {
            "text/plain": [
              "14"
            ]
          },
          "metadata": {},
          "execution_count": 6
        }
      ]
    },
    {
      "cell_type": "code",
      "source": [
        "df.columns"
      ],
      "metadata": {
        "colab": {
          "base_uri": "https://localhost:8080/"
        },
        "id": "wvpAo3c5810i",
        "outputId": "7b379b48-513c-4b90-db83-367c5f4278b3"
      },
      "execution_count": 8,
      "outputs": [
        {
          "output_type": "execute_result",
          "data": {
            "text/plain": [
              "Index(['ID', 'Severity', 'Start_Time', 'End_Time', 'Start_Lat', 'Start_Lng',\n",
              "       'End_Lat', 'End_Lng', 'Distance(mi)', 'Description', 'Number', 'Street',\n",
              "       'Side', 'City', 'County', 'State', 'Zipcode', 'Country', 'Timezone',\n",
              "       'Airport_Code', 'Weather_Timestamp', 'Temperature(F)', 'Wind_Chill(F)',\n",
              "       'Humidity(%)', 'Pressure(in)', 'Visibility(mi)', 'Wind_Direction',\n",
              "       'Wind_Speed(mph)', 'Precipitation(in)', 'Weather_Condition', 'Amenity',\n",
              "       'Bump', 'Crossing', 'Give_Way', 'Junction', 'No_Exit', 'Railway',\n",
              "       'Roundabout', 'Station', 'Stop', 'Traffic_Calming', 'Traffic_Signal',\n",
              "       'Turning_Loop', 'Sunrise_Sunset', 'Civil_Twilight', 'Nautical_Twilight',\n",
              "       'Astronomical_Twilight'],\n",
              "      dtype='object')"
            ]
          },
          "metadata": {},
          "execution_count": 8
        }
      ]
    },
    {
      "cell_type": "code",
      "source": [
        "len(df.columns)"
      ],
      "metadata": {
        "colab": {
          "base_uri": "https://localhost:8080/"
        },
        "id": "68RHKCFl9wdg",
        "outputId": "2728d962-2ae7-431c-cfd8-99ad2e97c7c5"
      },
      "execution_count": 9,
      "outputs": [
        {
          "output_type": "execute_result",
          "data": {
            "text/plain": [
              "47"
            ]
          },
          "metadata": {},
          "execution_count": 9
        }
      ]
    },
    {
      "cell_type": "code",
      "source": [
        "numerics = ['int16', 'int32', 'int64', 'float16', 'float32', 'float64']\n",
        "\n",
        "numeric_df = df.select_dtypes(include=numerics)\n",
        "len(numeric_df.columns)"
      ],
      "metadata": {
        "colab": {
          "base_uri": "https://localhost:8080/"
        },
        "id": "8XOci31R9wi1",
        "outputId": "6e84358e-a2c5-4102-b513-e45150b47bda"
      },
      "execution_count": 11,
      "outputs": [
        {
          "output_type": "execute_result",
          "data": {
            "text/plain": [
              "14"
            ]
          },
          "metadata": {},
          "execution_count": 11
        }
      ]
    },
    {
      "cell_type": "code",
      "source": [
        "df.isna().sum()"
      ],
      "metadata": {
        "colab": {
          "base_uri": "https://localhost:8080/"
        },
        "id": "XcLVlWJv9wku",
        "outputId": "918d0bb1-e816-445b-f0e3-14d50513e043"
      },
      "execution_count": 14,
      "outputs": [
        {
          "output_type": "execute_result",
          "data": {
            "text/plain": [
              "ID                             0\n",
              "Severity                       0\n",
              "Start_Time                     0\n",
              "End_Time                       0\n",
              "Start_Lat                      0\n",
              "Start_Lng                      0\n",
              "End_Lat                        0\n",
              "End_Lng                        0\n",
              "Distance(mi)                   0\n",
              "Description                    0\n",
              "Number                   1743911\n",
              "Street                         2\n",
              "Side                           0\n",
              "City                         137\n",
              "County                         0\n",
              "State                          0\n",
              "Zipcode                     1319\n",
              "Country                        0\n",
              "Timezone                    3659\n",
              "Airport_Code                9549\n",
              "Weather_Timestamp          50736\n",
              "Temperature(F)             69274\n",
              "Wind_Chill(F)             469643\n",
              "Humidity(%)                73092\n",
              "Pressure(in)               59200\n",
              "Visibility(mi)             70546\n",
              "Wind_Direction             73775\n",
              "Wind_Speed(mph)           157944\n",
              "Precipitation(in)         549458\n",
              "Weather_Condition          70636\n",
              "Amenity                        0\n",
              "Bump                           0\n",
              "Crossing                       0\n",
              "Give_Way                       0\n",
              "Junction                       0\n",
              "No_Exit                        0\n",
              "Railway                        0\n",
              "Roundabout                     0\n",
              "Station                        0\n",
              "Stop                           0\n",
              "Traffic_Calming                0\n",
              "Traffic_Signal                 0\n",
              "Turning_Loop                   0\n",
              "Sunrise_Sunset              2867\n",
              "Civil_Twilight              2867\n",
              "Nautical_Twilight           2867\n",
              "Astronomical_Twilight       2867\n",
              "dtype: int64"
            ]
          },
          "metadata": {},
          "execution_count": 14
        }
      ]
    },
    {
      "cell_type": "markdown",
      "source": [
        "Percentage of missing values per column"
      ],
      "metadata": {
        "id": "h61K8VyuAfEL"
      }
    },
    {
      "cell_type": "code",
      "source": [
        "missing_percentages = df.isna().sum().sort_values(ascending=False) / len(df)\n",
        "missing_percentages"
      ],
      "metadata": {
        "colab": {
          "base_uri": "https://localhost:8080/"
        },
        "id": "HW9A8BnB9wnQ",
        "outputId": "6172b223-051a-448a-d095-0012e77c1c8b"
      },
      "execution_count": 15,
      "outputs": [
        {
          "output_type": "execute_result",
          "data": {
            "text/plain": [
              "Number                   6.129003e-01\n",
              "Precipitation(in)        1.931079e-01\n",
              "Wind_Chill(F)            1.650568e-01\n",
              "Wind_Speed(mph)          5.550967e-02\n",
              "Wind_Direction           2.592834e-02\n",
              "Humidity(%)              2.568830e-02\n",
              "Weather_Condition        2.482514e-02\n",
              "Visibility(mi)           2.479350e-02\n",
              "Temperature(F)           2.434646e-02\n",
              "Pressure(in)             2.080593e-02\n",
              "Weather_Timestamp        1.783125e-02\n",
              "Airport_Code             3.356011e-03\n",
              "Timezone                 1.285961e-03\n",
              "Nautical_Twilight        1.007612e-03\n",
              "Civil_Twilight           1.007612e-03\n",
              "Sunrise_Sunset           1.007612e-03\n",
              "Astronomical_Twilight    1.007612e-03\n",
              "Zipcode                  4.635647e-04\n",
              "City                     4.814887e-05\n",
              "Street                   7.029032e-07\n",
              "Country                  0.000000e+00\n",
              "Junction                 0.000000e+00\n",
              "Start_Time               0.000000e+00\n",
              "End_Time                 0.000000e+00\n",
              "Start_Lat                0.000000e+00\n",
              "Turning_Loop             0.000000e+00\n",
              "Traffic_Signal           0.000000e+00\n",
              "Traffic_Calming          0.000000e+00\n",
              "Stop                     0.000000e+00\n",
              "Station                  0.000000e+00\n",
              "Roundabout               0.000000e+00\n",
              "Railway                  0.000000e+00\n",
              "No_Exit                  0.000000e+00\n",
              "Crossing                 0.000000e+00\n",
              "Give_Way                 0.000000e+00\n",
              "Bump                     0.000000e+00\n",
              "Amenity                  0.000000e+00\n",
              "Start_Lng                0.000000e+00\n",
              "End_Lat                  0.000000e+00\n",
              "End_Lng                  0.000000e+00\n",
              "Distance(mi)             0.000000e+00\n",
              "Description              0.000000e+00\n",
              "Severity                 0.000000e+00\n",
              "Side                     0.000000e+00\n",
              "County                   0.000000e+00\n",
              "State                    0.000000e+00\n",
              "ID                       0.000000e+00\n",
              "dtype: float64"
            ]
          },
          "metadata": {},
          "execution_count": 15
        }
      ]
    },
    {
      "cell_type": "code",
      "source": [
        "type(missing_percentages)\n"
      ],
      "metadata": {
        "colab": {
          "base_uri": "https://localhost:8080/"
        },
        "id": "Mo9hEI5s9wpP",
        "outputId": "e5e11bc1-9d93-451b-9fcc-7e4ee52f93d1"
      },
      "execution_count": 16,
      "outputs": [
        {
          "output_type": "execute_result",
          "data": {
            "text/plain": [
              "pandas.core.series.Series"
            ]
          },
          "metadata": {},
          "execution_count": 16
        }
      ]
    },
    {
      "cell_type": "code",
      "source": [
        "missing_percentages[missing_percentages != 0].plot(kind='barh')"
      ],
      "metadata": {
        "colab": {
          "base_uri": "https://localhost:8080/",
          "height": 282
        },
        "id": "FLGTZTGV9wrp",
        "outputId": "4235dce3-8097-4c17-bb40-bcceb9ec56a7"
      },
      "execution_count": 20,
      "outputs": [
        {
          "output_type": "execute_result",
          "data": {
            "text/plain": [
              "<matplotlib.axes._subplots.AxesSubplot at 0x7fca6d9e2d50>"
            ]
          },
          "metadata": {},
          "execution_count": 20
        },
        {
          "output_type": "display_data",
          "data": {
            "text/plain": [
              "<Figure size 432x288 with 1 Axes>"
            ],
            "image/png": "[encoded data removed]"
          },
          "metadata": {
            "needs_background": "light"
          }
        }
      ]
    },
    {
      "cell_type": "code",
      "source": [
        ""
      ],
      "metadata": {
        "id": "Bbj939dCBiXV"
      },
      "execution_count": null,
      "outputs": []
    },
    {
      "cell_type": "markdown",
      "source": [
        "#Exploratory Analysis and Visualization\n",
        "\n",
        "\n",
        "1.   City\n",
        "\n",
        "1.   Start Time\n",
        "2.   Start Lat, Start Lng\n",
        "\n",
        "\n",
        "2.   Temperature\n",
        "\n",
        "1.   Weather Condition\n",
        "\n",
        "\n",
        "\n",
        "\n"
      ],
      "metadata": {
        "id": "n5adBmf5BkHO"
      }
    },
    {
      "cell_type": "code",
      "source": [
        "df.columns"
      ],
      "metadata": {
        "colab": {
          "base_uri": "https://localhost:8080/"
        },
        "id": "kXOsuObd9wud",
        "outputId": "f02764fc-95e3-48ce-dac1-c836b8e66aa0"
      },
      "execution_count": 21,
      "outputs": [
        {
          "output_type": "execute_result",
          "data": {
            "text/plain": [
              "Index(['ID', 'Severity', 'Start_Time', 'End_Time', 'Start_Lat', 'Start_Lng',\n",
              "       'End_Lat', 'End_Lng', 'Distance(mi)', 'Description', 'Number', 'Street',\n",
              "       'Side', 'City', 'County', 'State', 'Zipcode', 'Country', 'Timezone',\n",
              "       'Airport_Code', 'Weather_Timestamp', 'Temperature(F)', 'Wind_Chill(F)',\n",
              "       'Humidity(%)', 'Pressure(in)', 'Visibility(mi)', 'Wind_Direction',\n",
              "       'Wind_Speed(mph)', 'Precipitation(in)', 'Weather_Condition', 'Amenity',\n",
              "       'Bump', 'Crossing', 'Give_Way', 'Junction', 'No_Exit', 'Railway',\n",
              "       'Roundabout', 'Station', 'Stop', 'Traffic_Calming', 'Traffic_Signal',\n",
              "       'Turning_Loop', 'Sunrise_Sunset', 'Civil_Twilight', 'Nautical_Twilight',\n",
              "       'Astronomical_Twilight'],\n",
              "      dtype='object')"
            ]
          },
          "metadata": {},
          "execution_count": 21
        }
      ]
    },
    {
      "cell_type": "code",
      "source": [
        "df.City"
      ],
      "metadata": {
        "colab": {
          "base_uri": "https://localhost:8080/"
        },
        "id": "BpUJVMft9wxX",
        "outputId": "678fc7c4-dbb7-4f21-a87f-b32ad49ff7ca"
      },
      "execution_count": 22,
      "outputs": [
        {
          "output_type": "execute_result",
          "data": {
            "text/plain": [
              "0               Dublin\n",
              "1               Dayton\n",
              "2           Cincinnati\n",
              "3                Akron\n",
              "4           Cincinnati\n",
              "              ...     \n",
              "2845337      Riverside\n",
              "2845338      San Diego\n",
              "2845339         Orange\n",
              "2845340    Culver City\n",
              "2845341       Highland\n",
              "Name: City, Length: 2845342, dtype: object"
            ]
          },
          "metadata": {},
          "execution_count": 22
        }
      ]
    },
    {
      "cell_type": "code",
      "source": [
        "cities=df['City'].unique()\n",
        "len(cities)"
      ],
      "metadata": {
        "colab": {
          "base_uri": "https://localhost:8080/"
        },
        "id": "7L4VkjMg9w0_",
        "outputId": "4f802c88-984a-46bc-8817-7fa5c2e66422"
      },
      "execution_count": 26,
      "outputs": [
        {
          "output_type": "execute_result",
          "data": {
            "text/plain": [
              "11682"
            ]
          },
          "metadata": {},
          "execution_count": 26
        }
      ]
    },
    {
      "cell_type": "code",
      "source": [
        "cities_by_accident=df.City.value_counts()\n",
        "cities_by_accident"
      ],
      "metadata": {
        "colab": {
          "base_uri": "https://localhost:8080/"
        },
        "id": "MD4jdZYC9w3v",
        "outputId": "d3f6a1c9-df24-4f87-8567-99c0edc22e16"
      },
      "execution_count": 27,
      "outputs": [
        {
          "output_type": "execute_result",
          "data": {
            "text/plain": [
              "Miami                           106966\n",
              "Los Angeles                      68956\n",
              "Orlando                          54691\n",
              "Dallas                           41979\n",
              "Houston                          39448\n",
              "                                 ...  \n",
              "Ridgedale                            1\n",
              "Sekiu                                1\n",
              "Wooldridge                           1\n",
              "Bullock                              1\n",
              "American Fork-Pleasant Grove         1\n",
              "Name: City, Length: 11681, dtype: int64"
            ]
          },
          "metadata": {},
          "execution_count": 27
        }
      ]
    },
    {
      "cell_type": "code",
      "source": [
        "type(cities_by_accident)"
      ],
      "metadata": {
        "colab": {
          "base_uri": "https://localhost:8080/"
        },
        "id": "WOeZsmVv9w6n",
        "outputId": "65a61a88-5f9e-46df-fcc8-649b73fb8d5c"
      },
      "execution_count": 28,
      "outputs": [
        {
          "output_type": "execute_result",
          "data": {
            "text/plain": [
              "pandas.core.series.Series"
            ]
          },
          "metadata": {},
          "execution_count": 28
        }
      ]
    },
    {
      "cell_type": "code",
      "source": [
        "cities_by_accident[:20].plot(kind='barh')"
      ],
      "metadata": {
        "colab": {
          "base_uri": "https://localhost:8080/",
          "height": 282
        },
        "id": "eMzuUbRK9w9y",
        "outputId": "5b22ed9d-100b-4142-c5b0-2313b8ae6e71"
      },
      "execution_count": 29,
      "outputs": [
        {
          "output_type": "execute_result",
          "data": {
            "text/plain": [
              "<matplotlib.axes._subplots.AxesSubplot at 0x7fca7ff47990>"
            ]
          },
          "metadata": {},
          "execution_count": 29
        },
        {
          "output_type": "display_data",
          "data": {
            "text/plain": [
              "<Figure size 432x288 with 1 Axes>"
            ],
            "image/png": "[encoded data removed]"
          },
          "metadata": {
            "needs_background": "light"
          }
        }
      ]
    },
    {
      "cell_type": "code",
      "source": [
        "import seaborn as sns\n",
        "sns.set_style(\"darkgrid\")"
      ],
      "metadata": {
        "id": "QXrg5J4v9xA6"
      },
      "execution_count": 30,
      "outputs": []
    },
    {
      "cell_type": "code",
      "source": [
        "sns.histplot(cities_by_accident, log_scale=True)"
      ],
      "metadata": {
        "colab": {
          "base_uri": "https://localhost:8080/",
          "height": 300
        },
        "id": "DyZpCzXo9xEb",
        "outputId": "85e4a85d-69ba-4639-8232-6206e626ae7d"
      },
      "execution_count": 31,
      "outputs": [
        {
          "output_type": "execute_result",
          "data": {
            "text/plain": [
              "<matplotlib.axes._subplots.AxesSubplot at 0x7fca614ee590>"
            ]
          },
          "metadata": {},
          "execution_count": 31
        },
        {
          "output_type": "display_data",
          "data": {
            "text/plain": [
              "<Figure size 432x288 with 1 Axes>"
            ],
            "image/png": "[encoded data removed]"
          },
          "metadata": {}
        }
      ]
    },
    {
      "cell_type": "code",
      "source": [
        "cities_by_accident[cities_by_accident == 1]\n"
      ],
      "metadata": {
        "colab": {
          "base_uri": "https://localhost:8080/"
        },
        "id": "SHmTt50A9xHk",
        "outputId": "d5996f5f-c41a-4aa1-f971-0577847c09d2"
      },
      "execution_count": 34,
      "outputs": [
        {
          "output_type": "execute_result",
          "data": {
            "text/plain": [
              "Carney                          1\n",
              "Waverly Hall                    1\n",
              "Center Sandwich                 1\n",
              "Glen Flora                      1\n",
              "Sulphur Springs                 1\n",
              "                               ..\n",
              "Ridgedale                       1\n",
              "Sekiu                           1\n",
              "Wooldridge                      1\n",
              "Bullock                         1\n",
              "American Fork-Pleasant Grove    1\n",
              "Name: City, Length: 1110, dtype: int64"
            ]
          },
          "metadata": {},
          "execution_count": 34
        }
      ]
    },
    {
      "cell_type": "code",
      "source": [
        "len(cities_by_accident[cities_by_accident == 1])"
      ],
      "metadata": {
        "colab": {
          "base_uri": "https://localhost:8080/"
        },
        "id": "Zr6U3lii9xKq",
        "outputId": "7995bb1e-ce9b-4436-c530-53aac60617e4"
      },
      "execution_count": 35,
      "outputs": [
        {
          "output_type": "execute_result",
          "data": {
            "text/plain": [
              "1110"
            ]
          },
          "metadata": {},
          "execution_count": 35
        }
      ]
    },
    {
      "cell_type": "markdown",
      "source": [
        "###Start Time"
      ],
      "metadata": {
        "id": "90RpNehyHCAg"
      }
    },
    {
      "cell_type": "code",
      "source": [
        "df.Start_Time"
      ],
      "metadata": {
        "colab": {
          "base_uri": "https://localhost:8080/"
        },
        "id": "PhazkGTZGq_-",
        "outputId": "90d5b112-3056-4364-d7ad-cc5632304340"
      },
      "execution_count": 39,
      "outputs": [
        {
          "output_type": "execute_result",
          "data": {
            "text/plain": [
              "0          2016-02-08 00:37:08\n",
              "1          2016-02-08 05:56:20\n",
              "2          2016-02-08 06:15:39\n",
              "3          2016-02-08 06:51:45\n",
              "4          2016-02-08 07:53:43\n",
              "                  ...         \n",
              "2845337    2019-08-23 18:03:25\n",
              "2845338    2019-08-23 19:11:30\n",
              "2845339    2019-08-23 19:00:21\n",
              "2845340    2019-08-23 19:00:21\n",
              "2845341    2019-08-23 18:52:06\n",
              "Name: Start_Time, Length: 2845342, dtype: object"
            ]
          },
          "metadata": {},
          "execution_count": 39
        }
      ]
    },
    {
      "cell_type": "code",
      "source": [
        "df.Start_Time = pd.to_datetime(df.Start_Time)"
      ],
      "metadata": {
        "id": "kLXSamJSGrDZ"
      },
      "execution_count": 40,
      "outputs": []
    },
    {
      "cell_type": "code",
      "source": [
        "sns.distplot(df.Start_Time.dt.hour, bins=24, kde=False, norm_hist=True)"
      ],
      "metadata": {
        "colab": {
          "base_uri": "https://localhost:8080/",
          "height": 352
        },
        "id": "vv2pak2OGrHB",
        "outputId": "e58e6cbe-47d0-4dd5-c162-014bce392c95"
      },
      "execution_count": 43,
      "outputs": [
        {
          "output_type": "stream",
          "name": "stderr",
          "text": [
            "/usr/local/lib/python3.7/dist-packages/seaborn/distributions.py:2619: FutureWarning: `distplot` is a deprecated function and will be removed in a future version. Please adapt your code to use either `displot` (a figure-level function with similar flexibility) or `histplot` (an axes-level function for histograms).\n",
            "  warnings.warn(msg, FutureWarning)\n"
          ]
        },
        {
          "output_type": "execute_result",
          "data": {
            "text/plain": [
              "<matplotlib.axes._subplots.AxesSubplot at 0x7fca5ca04150>"
            ]
          },
          "metadata": {},
          "execution_count": 43
        },
        {
          "output_type": "display_data",
          "data": {
            "text/plain": [
              "<Figure size 432x288 with 1 Axes>"
            ],
            "image/png": "[encoded data removed]"
          },
          "metadata": {}
        }
      ]
    },
    {
      "cell_type": "markdown",
      "source": [
        "Most accidents happen between 3pm and 6pm"
      ],
      "metadata": {
        "id": "UZIOXUv_IZuP"
      }
    },
    {
      "cell_type": "code",
      "source": [
        "sns.distplot(df.Start_Time.dt.dayofweek, bins=7, kde=False, norm_hist=True)"
      ],
      "metadata": {
        "colab": {
          "base_uri": "https://localhost:8080/",
          "height": 297
        },
        "id": "BDNHDeCvGrKo",
        "outputId": "09fa2ecc-f8ab-4f1d-af52-0ffbdaaa382d"
      },
      "execution_count": 44,
      "outputs": [
        {
          "output_type": "execute_result",
          "data": {
            "text/plain": [
              "<matplotlib.axes._subplots.AxesSubplot at 0x7fca611eebd0>"
            ]
          },
          "metadata": {},
          "execution_count": 44
        },
        {
          "output_type": "display_data",
          "data": {
            "text/plain": [
              "<Figure size 432x288 with 1 Axes>"
            ],
            "image/png": "[encoded data removed]"
          },
          "metadata": {}
        }
      ]
    },
    {
      "cell_type": "markdown",
      "source": [
        "Is the distribution of accidents by hour the same on weekends as on weekdays."
      ],
      "metadata": {
        "id": "VATrlz_HI_wC"
      }
    },
    {
      "cell_type": "code",
      "source": [
        "sundays_start_time = df.Start_Time[df.Start_Time.dt.dayofweek == 6]\n",
        "sns.distplot(sundays_start_time.dt.hour, bins=24, kde=False, norm_hist=True)"
      ],
      "metadata": {
        "colab": {
          "base_uri": "https://localhost:8080/",
          "height": 352
        },
        "id": "Js4MafCCGrNS",
        "outputId": "7ede5e38-8dbd-4315-f655-6376f33e057f"
      },
      "execution_count": 48,
      "outputs": [
        {
          "output_type": "stream",
          "name": "stderr",
          "text": [
            "/usr/local/lib/python3.7/dist-packages/seaborn/distributions.py:2619: FutureWarning: `distplot` is a deprecated function and will be removed in a future version. Please adapt your code to use either `displot` (a figure-level function with similar flexibility) or `histplot` (an axes-level function for histograms).\n",
            "  warnings.warn(msg, FutureWarning)\n"
          ]
        },
        {
          "output_type": "execute_result",
          "data": {
            "text/plain": [
              "<matplotlib.axes._subplots.AxesSubplot at 0x7fca5c93cc10>"
            ]
          },
          "metadata": {},
          "execution_count": 48
        },
        {
          "output_type": "display_data",
          "data": {
            "text/plain": [
              "<Figure size 432x288 with 1 Axes>"
            ],
            "image/png": "[encoded data removed]"
          },
          "metadata": {}
        }
      ]
    },
    {
      "cell_type": "code",
      "source": [
        "monday_start_time = df.Start_Time[df.Start_Time.dt.dayofweek == 0]\n",
        "sns.distplot(monday_start_time.dt.hour, bins=24, kde=False, norm_hist=True)"
      ],
      "metadata": {
        "colab": {
          "base_uri": "https://localhost:8080/",
          "height": 297
        },
        "id": "hEiyzaHAGrP9",
        "outputId": "83244aef-210e-4ec0-e07c-cb8ba439215e"
      },
      "execution_count": 51,
      "outputs": [
        {
          "output_type": "execute_result",
          "data": {
            "text/plain": [
              "<matplotlib.axes._subplots.AxesSubplot at 0x7fca5c6d8390>"
            ]
          },
          "metadata": {},
          "execution_count": 51
        },
        {
          "output_type": "display_data",
          "data": {
            "text/plain": [
              "<Figure size 432x288 with 1 Axes>"
            ],
            "image/png": "[encoded data removed]"
          },
          "metadata": {}
        }
      ]
    },
    {
      "cell_type": "markdown",
      "source": [
        "### Start Latitude & Longitude"
      ],
      "metadata": {
        "id": "Ij9AZ19ELl-Z"
      }
    },
    {
      "cell_type": "code",
      "source": [
        "df.Start_Lat"
      ],
      "metadata": {
        "colab": {
          "base_uri": "https://localhost:8080/"
        },
        "id": "SQgKMtBRGrWM",
        "outputId": "87285f50-c088-4526-f969-077133656f08"
      },
      "execution_count": 55,
      "outputs": [
        {
          "output_type": "execute_result",
          "data": {
            "text/plain": [
              "0          40.108910\n",
              "1          39.865420\n",
              "2          39.102660\n",
              "3          41.062130\n",
              "4          39.172393\n",
              "             ...    \n",
              "2845337    34.002480\n",
              "2845338    32.766960\n",
              "2845339    33.775450\n",
              "2845340    33.992460\n",
              "2845341    34.133930\n",
              "Name: Start_Lat, Length: 2845342, dtype: float64"
            ]
          },
          "metadata": {},
          "execution_count": 55
        }
      ]
    },
    {
      "cell_type": "code",
      "source": [
        "df.Start_Lng"
      ],
      "metadata": {
        "colab": {
          "base_uri": "https://localhost:8080/"
        },
        "id": "8z4Tkly3GtOr",
        "outputId": "9c97784d-1542-42a6-b2fe-9c6ac19526d1"
      },
      "execution_count": 56,
      "outputs": [
        {
          "output_type": "execute_result",
          "data": {
            "text/plain": [
              "0          -83.092860\n",
              "1          -84.062800\n",
              "2          -84.524680\n",
              "3          -81.537840\n",
              "4          -84.492792\n",
              "              ...    \n",
              "2845337   -117.379360\n",
              "2845338   -117.148060\n",
              "2845339   -117.847790\n",
              "2845340   -118.403020\n",
              "2845341   -117.230920\n",
              "Name: Start_Lng, Length: 2845342, dtype: float64"
            ]
          },
          "metadata": {},
          "execution_count": 56
        }
      ]
    },
    {
      "cell_type": "code",
      "source": [
        "sample_df = df.sample(int(0.1 * len(df)))"
      ],
      "metadata": {
        "id": "QgzmRRivGtUm"
      },
      "execution_count": 59,
      "outputs": []
    },
    {
      "cell_type": "code",
      "source": [
        "sns.scatterplot(x=sample_df.Start_Lng, y=sample_df.Start_Lat, size=0.001)"
      ],
      "metadata": {
        "colab": {
          "base_uri": "https://localhost:8080/",
          "height": 299
        },
        "id": "HwujXPtUGtXl",
        "outputId": "6d193b8d-330f-4b02-bc2c-b892242670cb"
      },
      "execution_count": 60,
      "outputs": [
        {
          "output_type": "execute_result",
          "data": {
            "text/plain": [
              "<matplotlib.axes._subplots.AxesSubplot at 0x7fca5c59d610>"
            ]
          },
          "metadata": {},
          "execution_count": 60
        },
        {
          "output_type": "display_data",
          "data": {
            "text/plain": [
              "<Figure size 432x288 with 1 Axes>"
            ],
            "image/png": "[encoded data removed]"
          },
          "metadata": {}
        }
      ]
    },
    {
      "cell_type": "code",
      "source": [
        "import folium"
      ],
      "metadata": {
        "id": "jfIVQaWmGta9"
      },
      "execution_count": 61,
      "outputs": []
    },
    {
      "cell_type": "code",
      "source": [
        "lat, lon = df.Start_Lat[0], df.Start_Lng[0]\n",
        "lat, lon"
      ],
      "metadata": {
        "colab": {
          "base_uri": "https://localhost:8080/"
        },
        "id": "BWmqJtU9Gtd9",
        "outputId": "2118ce14-2dc1-4022-d9a5-76bda4ee4579"
      },
      "execution_count": 62,
      "outputs": [
        {
          "output_type": "execute_result",
          "data": {
            "text/plain": [
              "(40.10891, -83.09286)"
            ]
          },
          "metadata": {},
          "execution_count": 62
        }
      ]
    },
    {
      "cell_type": "code",
      "source": [
        "for x in df[['Start_Lat', 'Start_Lng']].sample(100).iteritems():\n",
        "    print(x[1])"
      ],
      "metadata": {
        "colab": {
          "base_uri": "https://localhost:8080/"
        },
        "id": "QMd275PsGthi",
        "outputId": "7c4bee78-8ace-4df5-f386-9771d870213b"
      },
      "execution_count": 63,
      "outputs": [
        {
          "output_type": "stream",
          "name": "stdout",
          "text": [
            "1230292    39.017599\n",
            "1665865    28.545808\n",
            "652360     44.943341\n",
            "682126     25.691952\n",
            "265968     36.001152\n",
            "             ...    \n",
            "1357633    25.760893\n",
            "2049450    25.694844\n",
            "2222956    38.916780\n",
            "435870     40.854578\n",
            "2398407    37.876406\n",
            "Name: Start_Lat, Length: 100, dtype: float64\n",
            "1230292    -76.994303\n",
            "1665865    -81.653681\n",
            "652360     -93.348051\n",
            "682126     -80.304496\n",
            "265968     -86.605444\n",
            "              ...    \n",
            "1357633    -80.395272\n",
            "2049450    -80.301065\n",
            "2222956    -76.932640\n",
            "435870     -74.041317\n",
            "2398407   -122.046355\n",
            "Name: Start_Lng, Length: 100, dtype: float64\n"
          ]
        }
      ]
    },
    {
      "cell_type": "code",
      "source": [
        "zip(list(df.Start_Lat), list(df.Start_Lng))"
      ],
      "metadata": {
        "colab": {
          "base_uri": "https://localhost:8080/"
        },
        "id": "mYr1YDb6Gtk-",
        "outputId": "7e9bdd85-0bc7-4b1d-95e8-0b101cf92a36"
      },
      "execution_count": 64,
      "outputs": [
        {
          "output_type": "execute_result",
          "data": {
            "text/plain": [
              "<zip at 0x7fca5a83a820>"
            ]
          },
          "metadata": {},
          "execution_count": 64
        }
      ]
    },
    {
      "cell_type": "code",
      "source": [
        "from folium.plugins import HeatMap"
      ],
      "metadata": {
        "id": "WS3h_dUzGtnh"
      },
      "execution_count": 65,
      "outputs": []
    },
    {
      "cell_type": "code",
      "source": [
        "sample_df = df.sample(int(0.001 * len(df)))\n",
        "lat_lon_pairs = list(zip(list(sample_df.Start_Lat), list(sample_df.Start_Lng)))"
      ],
      "metadata": {
        "id": "DHdJZxczGtqU"
      },
      "execution_count": 66,
      "outputs": []
    },
    {
      "cell_type": "code",
      "source": [
        "map = folium.Map()\n",
        "HeatMap(lat_lon_pairs).add_to(map)\n",
        "map"
      ],
      "metadata": {
        "colab": {
          "base_uri": "https://localhost:8080/",
          "height": 712
        },
        "id": "4fDWMFQLGttP",
        "outputId": "69d1918e-bd45-4ace-98de-258b42bc9f2d"
      },
      "execution_count": 67,
      "outputs": [
        {
          "output_type": "execute_result",
          "data": {
            "text/plain": [
              "<folium.folium.Map at 0x7fca4f651e90>"
            ],
            "text/html": [
              "<div style=\"width:100%;\"><div style=\"position:relative;width:100%;height:0;padding-bottom:60%;\"><span style=\"color:#565656\">Make this Notebook Trusted to load map: File -> Trust Notebook</span><iframe srcdoc=\"&lt;!DOCTYPE html&gt;\n",
              "&lt;head&gt;    \n",
              "    &lt;meta http-equiv=&quot;content-type&quot; content=&quot;text/html; charset=UTF-8&quot; /&gt;\n",
              "    \n",
              "        &lt;script&gt;\n",
              "            L_NO_TOUCH = false;\n",
              "            L_DISABLE_3D = false;\n",
              "        &lt;/script&gt;\n",
              "    \n",
              "    &lt;style&gt;html, body {width: 100%;height: 100%;margin: 0;padding: 0;}&lt;/style&gt;\n",
              "    &lt;style&gt;#map {position:absolute;top:0;bottom:0;right:0;left:0;}&lt;/style&gt;\n",
              "    &lt;script src=&quot;https://cdn.jsdelivr.net/npm/leaflet@1.6.0/dist/leaflet.js&quot;&gt;&lt;/script&gt;\n",
              "    &lt;script src=&quot;https://code.jquery.com/jquery-1.12.4.min.js&quot;&gt;&lt;/script&gt;\n",
              "    &lt;script src=&quot;https://maxcdn.bootstrapcdn.com/bootstrap/3.2.0/js/bootstrap.min.js&quot;&gt;&lt;/script&gt;\n",
              "    &lt;script src=&quot;https://cdnjs.cloudflare.com/ajax/libs/Leaflet.awesome-markers/2.0.2/leaflet.awesome-markers.js&quot;&gt;&lt;/script&gt;\n",
              "    &lt;link rel=&quot;stylesheet&quot; href=&quot;https://cdn.jsdelivr.net/npm/leaflet@1.6.0/dist/leaflet.css&quot;/&gt;\n",
              "    &lt;link rel=&quot;stylesheet&quot; href=&quot;https://maxcdn.bootstrapcdn.com/bootstrap/3.2.0/css/bootstrap.min.css&quot;/&gt;\n",
              "    &lt;link rel=&quot;stylesheet&quot; href=&quot;https://maxcdn.bootstrapcdn.com/bootstrap/3.2.0/css/bootstrap-theme.min.css&quot;/&gt;\n",
              "    &lt;link rel=&quot;stylesheet&quot; href=&quot;https://maxcdn.bootstrapcdn.com/font-awesome/4.6.3/css/font-awesome.min.css&quot;/&gt;\n",
              "    &lt;link rel=&quot;stylesheet&quot; href=&quot;https://cdnjs.cloudflare.com/ajax/libs/Leaflet.awesome-markers/2.0.2/leaflet.awesome-markers.css&quot;/&gt;\n",
              "    &lt;link rel=&quot;stylesheet&quot; href=&quot;https://cdn.jsdelivr.net/gh/python-visualization/folium/folium/templates/leaflet.awesome.rotate.min.css&quot;/&gt;\n",
              "    \n",
              "            &lt;meta name=&quot;viewport&quot; content=&quot;width=device-width,\n",
              "                initial-scale=1.0, maximum-scale=1.0, user-scalable=no&quot; /&gt;\n",
              "            &lt;style&gt;\n",
              "                #map_bd6b07ef00bb7b6b45d8b80b92f88256 {\n",
              "                    position: relative;\n",
              "                    width: 100.0%;\n",
              "                    height: 100.0%;\n",
              "                    left: 0.0%;\n",
              "                    top: 0.0%;\n",
              "                }\n",
              "            &lt;/style&gt;\n",
              "        \n",
              "    &lt;script src=&quot;https://cdn.jsdelivr.net/gh/python-visualization/folium@master/folium/templates/leaflet_heat.min.js&quot;&gt;&lt;/script&gt;\n",
              "&lt;/head&gt;\n",
              "&lt;body&gt;    \n",
              "    \n",
              "            &lt;div class=&quot;folium-map&quot; id=&quot;map_bd6b07ef00bb7b6b45d8b80b92f88256&quot; &gt;&lt;/div&gt;\n",
              "        \n",
              "&lt;/body&gt;\n",
              "&lt;script&gt;    \n",
              "    \n",
              "            var map_bd6b07ef00bb7b6b45d8b80b92f88256 = L.map(\n",
              "                &quot;map_bd6b07ef00bb7b6b45d8b80b92f88256&quot;,\n",
              "                {\n",
              "                    center: [0, 0],\n",
              "                    crs: L.CRS.EPSG3857,\n",
              "                    zoom: 1,\n",
              "                    zoomControl: true,\n",
              "                    preferCanvas: false,\n",
              "                }\n",
              "            );\n",
              "\n",
              "            \n",
              "\n",
              "        \n",
              "    \n",
              "            var tile_layer_c913a3f43740196ebe7d80e3b90f196f = L.tileLayer(\n",
              "                &quot;https://{s}.tile.openstreetmap.org/{z}/{x}/{y}.png&quot;,\n",
              "                {&quot;attribution&quot;: &quot;Data by \\u0026copy; \\u003ca href=\\&quot;http://openstreetmap.org\\&quot;\\u003eOpenStreetMap\\u003c/a\\u003e, under \\u003ca href=\\&quot;http://www.openstreetmap.org/copyright\\&quot;\\u003eODbL\\u003c/a\\u003e.&quot;, &quot;detectRetina&quot;: false, &quot;maxNativeZoom&quot;: 18, &quot;maxZoom&quot;: 18, &quot;minZoom&quot;: 0, &quot;noWrap&quot;: false, &quot;opacity&quot;: 1, &quot;subdomains&quot;: &quot;abc&quot;, &quot;tms&quot;: false}\n",
              "            ).addTo(map_bd6b07ef00bb7b6b45d8b80b92f88256);\n",
              "        \n",
              "    \n",
              "            var heat_map_45161b6b3b3c6638f70e65a63bbfab03 = L.heatLayer(\n",
              "                [[44.99665, -123.21155], [41.87427, -87.7108], [32.460370000000005, -86.417233], [45.967201, -93.002123], [27.322898, -82.487853], [36.764441, -119.89822], [25.880005, -80.242866], [37.824287, -120.170922], [41.22604000000001, -95.95213], [33.971674, -118.247674], [33.835947999999995, -117.941554], [41.84572, -70.84629], [41.14108, -83.65902], [38.62132800000001, -121.523775], [45.47646, -122.78948], [40.806861, -73.8329], [40.648201, -74.20152], [30.45556, -81.63494], [47.58331, -122.17669], [29.750359000000003, -95.377756], [34.03665, -118.16132], [34.081681, -117.731455], [33.576628, -81.849285], [35.93382000000001, -78.81165], [37.491713, -121.91907], [37.869355, -122.044409], [25.873735, -80.184061], [27.103518, -80.263785], [38.415636, -120.610122], [29.728558000000003, -95.358925], [30.267773, -97.745543], [32.893231, -97.317063], [26.547965, -81.83930600000002], [33.61616, -84.44218000000002], [45.17798, -93.306766], [34.555351, -80.488739], [34.145285, -118.278801], [28.494911, -81.39692], [39.802211, -86.083577], [39.162515, -108.300315], [41.22067, -111.97054], [44.94854, -92.95909], [37.529097, -122.360129], [44.966646, -93.276507], [32.83876, -117.14642], [36.73665, -119.80553], [34.719876, -79.31271600000002], [40.639522, -112.024555], [33.967231, -118.083476], [26.546486, -81.846772], [40.570428, -74.595148], [42.72677, -71.635491], [42.14145, -87.886072], [32.589776, -96.822252], [26.495275, -81.84431500000002], [44.924118, -93.274536], [33.776575, -117.837134], [33.803642, -118.138162], [32.32754, -90.86239], [25.8614, -80.196894], [37.900859, -122.506925], [38.068774, -122.538424], [34.295252000000005, -119.146719], [29.80978, -95.34205], [40.918418, -74.130946], [28.505288, -81.245851], [27.633667, -81.518273], [40.380147, -74.578796], [39.21934, -77.74459300000002], [29.694873, -95.318997], [46.36683, -94.88689], [25.81605, -80.20566], [45.0585, -93.02813], [37.316128000000006, -121.931938], [25.684807, -80.430801], [42.431726, -122.160185], [25.810524, -80.256556], [34.050937, -118.251451], [33.595933, -79.44247800000002], [37.739442, -121.177602], [36.151311, -86.751015], [41.42145, -81.71718], [40.820142, -73.89031999999997], [41.001201, -73.652397], [39.080761, -121.11477], [43.12476, -75.594617], [32.111867, -110.991772], [32.139536, -110.840618], [35.346866, -119.039435], [37.472148, -122.295947], [36.8444, -76.19884], [32.207026, -110.891285], [38.423985, -82.304517], [28.196572, -82.546538], [47.80514, -122.15935], [32.414917, -80.648888], [35.306396, -80.8594], [33.928984, -118.230329], [43.833645, -95.07534], [44.27641, -123.06072], [37.824247, -122.267767], [41.280582, -111.985275], [41.97411, -87.76895999999998], [42.36678, -71.06085999999998], [25.72546, -80.314323], [34.020937, -118.278454], [40.74667, -73.969155], [38.674362, -77.27771899999998], [32.826809999999995, -117.1176], [28.29381, -82.709197], [44.258451, -121.180034], [33.89934, -117.881318], [37.934803, -120.843769], [34.728677000000005, -112.147806], [43.210975, -73.85924399999998], [37.409194, -121.878937], [32.83883, -113.33373], [40.562251, -74.322694], [33.980599, -117.966489], [38.935986, -76.916044], [28.152492, -82.726575], [42.934353, -85.618944], [37.80857, -122.24208], [33.774764000000005, -118.086451], [30.167196, -97.788527], [34.061791, -118.000556], [38.46336, -121.83635], [40.00145, -75.278712], [39.73292, -122.195186], [39.808156, -110.778914], [36.14109600000001, -86.759012], [40.825656, -73.931218], [45.561608, -94.20577], [35.75889, -78.73105], [39.82476, -75.08236], [25.653355, -80.41561899999998], [44.45042, -95.75599], [40.066805, -75.10594300000002], [34.434018, -118.59174], [38.65276, -121.278177], [25.826281, -80.325479], [36.961504, -120.064967], [37.903133, -121.330857], [33.924644, -98.507588], [34.300185, -118.160094], [35.149123, -84.955627], [33.9743, -81.19657], [32.76052, -97.239256], [41.40523, -81.64816], [38.631273, -121.504832], [33.616849, -84.44653199999998], [33.941233000000004, -118.031219], [35.312268, -80.75859], [47.158757, -122.309213], [40.74161, -111.88823], [28.95862, -82.12281], [28.3929, -81.37201400000002], [44.252221, -121.18412], [43.089984, -83.718657], [36.561437, -119.55658], [25.734914, -80.33587299999998], [40.886596, -122.388201], [34.13657, -117.48329], [34.134353999999995, -117.674277], [45.572717, -122.678759], [33.879203000000004, -118.285196], [42.171922, -121.621619], [30.347948, -86.20326999999996], [38.79429, -77.14921700000002], [33.879940999999995, -117.60796299999998], [33.87764, -118.099926], [36.16887, -86.56814], [45.51901, -94.22463], [29.9969, -90.04522], [32.909599, -96.888996], [40.754172, -77.168337], [43.50087, -121.44966200000002], [43.20456, -77.54961], [33.92615, -81.12261099999998], [33.85672, -117.97898], [35.33263, -80.79908], [36.14052, -86.72365], [34.017175, -118.05396100000002], [39.148761, -94.559851], [32.319705, -95.322771], [34.044013, -118.438613], [28.59758, -81.24458], [32.908962, -80.036702], [37.640823, -77.57065300000002], [44.973167, -93.400622], [40.662714, -73.80251700000002], [35.984119, -119.963074], [25.626174, -80.415521], [34.746934, -92.376447], [33.977581, -118.064796], [32.944296, -117.108303], [35.790436, -119.252601], [37.72262, -113.05825], [32.6423, -96.83391], [41.535521, -73.899135], [30.461127, -87.300913], [40.458365, -122.297605], [34.11853, -117.84169], [34.856390999999995, -82.25704], [41.75649600000001, -72.649249], [37.13387, -89.17788], [39.315658, -76.74453299999998], [32.87192, -96.774639], [39.08578, -94.59224], [33.990804, -117.931909], [34.064923, -117.797459], [40.44623, -74.498187], [40.82729000000001, -74.026063], [38.413054, -122.549135], [42.918821, -78.90038299999998], [30.417181, -91.089906], [25.904828, -80.349723], [35.199757, -80.841645], [38.85958, -77.21984], [33.143833, -117.191043], [35.772437, -78.587289], [34.157625, -118.405212], [41.532122, -73.839481], [37.389747, -120.846803], [32.669258, -96.829117], [34.333537, -117.482459], [41.985638, -87.858323], [40.74064, -74.2159], [42.33862, -123.33268], [39.87612, -75.28029000000002], [39.319971, -76.455005], [25.825173, -80.313625], [38.137936, -122.470169], [34.566088, -118.686064], [41.547149, -87.31110600000002], [30.287472, -81.485568], [34.265933000000004, -118.974314], [40.332252, -75.458712], [37.714361, -121.476509], [40.663301, -73.998205], [35.180237, -81.92494], [30.481504, -81.643828], [37.934398, -122.433923], [40.227, -111.67826], [41.318784, -73.748198], [32.294789, -95.292959], [40.095282, -75.90814499999998], [34.199341, -79.8006], [44.104184, -116.961427], [33.726890000000004, -84.32409], [44.965009, -93.287549], [27.446361, -82.497359], [25.73521400000001, -80.319257], [29.19985800000001, -81.436642], [24.772901, -80.93494799999998], [39.672287, -76.409223], [37.40303, -122.046902], [40.71816, -111.883207], [37.559267, -122.280445], [34.05563, -118.2154], [36.94559, -76.266448], [32.75773, -117.217077], [42.281794, -85.377228], [25.979964, -80.165963], [45.71857, -120.22183], [38.733205, -77.772469], [28.122993, -82.740149], [34.07042, -117.39843700000002], [35.2369, -80.73787], [34.093226, -80.860716], [40.76292, -73.86065], [41.444377, -74.373563], [32.68112, -96.852803], [29.66618, -95.260233], [38.853593, -77.13519000000002], [34.019263, -117.498117], [34.693619, -82.83596899999998], [40.23918, -75.246215], [43.6907, -93.42328], [43.319939, -75.293973], [44.90086, -93.27475], [41.111714, -78.54164499999997], [34.226802, -118.377771], [34.047526, -118.449313], [34.10049, -118.2484], [38.363955, -76.97934000000002], [30.424514, -91.155079], [43.148566, -77.593879], [34.06729, -117.55432], [38.873557, -94.794387], [38.80473, -77.16048], [44.124464, -70.026423], [34.016937, -117.339824], [42.25883, -121.80295], [42.935123, -78.76647], [34.094203, -80.858194], [41.70349, -71.1603], [35.024508000000004, -85.556077], [25.685885, -80.365886], [37.65556, -121.668747], [43.037921, -83.67705699999998], [25.749963, -80.303587], [38.377426, -122.200699], [25.684698, -80.43404100000002], [40.25664, -76.85696], [28.493789000000003, -81.46001600000002], [34.07221, -117.90351], [34.17213, -118.38908], [33.951116, -81.139945], [34.106481, -117.271634], [34.11793, -117.30234], [33.956025, -118.109325], [38.598047, -121.408415], [44.914593, -91.990956], [40.783341, -124.125578], [30.256594, -97.738455], [25.895833, -80.32458100000002], [37.730445, -121.109994], [34.01533, -117.088921], [34.03014, -117.711263], [41.41248, -81.81798], [42.90606500000001, -83.60332], [25.73447, -80.26827], [38.462088, -121.408329], [28.491023, -81.396734], [38.92129600000001, -77.417967], [25.666374, -80.32470699999998], [28.565414, -81.173764], [35.818344, -78.612877], [34.062096000000004, -117.193003], [39.240962, -76.58937900000002], [38.03685, -120.400297], [40.69429, -111.90261], [37.63491, -122.0869], [28.33685, -81.489875], [42.15308, -87.96243], [33.45771, -112.341154], [32.713326, -117.133945], [32.625825, -96.695972], [40.04788, -75.112935], [37.60942100000001, -120.984931], [41.03039, -111.93512], [32.952234999999995, -97.310403], [25.76986, -80.318342], [27.893897, -82.719746], [43.09341, -75.31338000000002], [41.454774, -73.23875699999998], [42.368415, -83.14142700000002], [43.238902, -73.68115999999998], [35.10873, -118.31995], [29.784697, -95.527502], [34.036261, -118.321182], [40.89416, -74.26935999999998], [33.862365000000004, -118.18504], [30.50644, -87.16335], [38.84051, -76.87209], [40.239046, -76.80189], [41.730702, -87.814513], [33.723823, -117.976452], [29.515579, -98.438048], [45.086135, -93.186915], [28.215237, -82.481208], [34.6607, -81.92520999999998], [33.08943, -80.11486], [33.697139, -84.404641], [33.922079, -117.880307], [35.111005, -80.915654], [43.66644, -93.32239], [26.162555, -80.162035], [32.777355, -117.162398], [42.86904000000001, -77.71296], [30.458828000000004, -84.361494], [28.552989, -81.39331999999997], [39.352505, -120.149518], [34.033856, -117.379679], [38.592362, -121.445153], [38.531791, -121.471169], [40.67468, -73.73355], [40.65942, -74.28549], [44.07705, -124.10389], [41.428318, -72.994837], [32.198144, -110.841346], [34.08133, -117.69727], [36.823033, -119.785399], [25.891745, -80.124215], [38.397502, -77.435174], [32.80557, -96.838511], [40.681504, -80.095385], [39.956899, -75.152953], [35.84213300000001, -117.874814], [38.74631, -90.33726], [30.442190000000004, -97.66825], [34.13471, -117.63058999999998], [33.96745, -118.24769], [33.888726, -118.199621], [27.05077, -80.2354], [29.840946, -95.424619], [38.68501, -121.337167], [32.798623, -96.62614], [41.332076, -73.960418], [25.760878, -80.41873100000002], [45.687006, -121.70973700000002], [35.933261, -78.98894200000002], [34.04674, -118.2148], [44.897528, -123.228567], [37.61079, -77.56365], [35.2072, -91.72877], [25.92508, -80.210181], [40.72775, -74.1294], [41.54086, -81.6065], [38.608751, -121.382899], [29.834207, -95.549915], [38.246606, -122.627071], [45.918506, -92.966555], [45.592048, -118.538352], [42.96955300000001, -122.397804], [45.57609, -89.14984], [33.38624, -111.771255], [41.87083, -87.870261], [36.111642, -86.792603], [42.39848, -82.98429], [25.882637, -80.25867099999998], [44.96178, -92.77324], [40.104432, -74.78822199999998], [34.06965, -118.14921], [40.859066, -73.82717], [37.6382, -120.92332], [36.861821, -76.431196], [33.6152, -112.24001], [25.809401, -80.31102], [35.046089, -85.304819], [26.190405, -81.800126], [42.13099, -83.38154], [45.035567, -92.883441], [32.823515, -96.629175], [38.465544, -77.408119], [38.560239, -121.480888], [38.86726, -77.31728000000003], [41.143981, -73.26603], [38.235526, -77.50148], [33.767697, -118.032183], [37.268835, -76.493769], [37.682369, -120.848144], [38.801411, -77.519531], [39.014143, -77.058716], [41.873239, -87.908244], [35.28767, -82.40136], [33.719902000000005, -117.971983], [34.26217800000001, -119.230461], [38.510415, -121.780149], [43.133987, -75.46951800000002], [39.23982700000001, -76.837166], [38.221263, -77.50733100000002], [28.330285, -82.666173], [34.02006, -118.19021], [32.91978, -96.8523], [36.971815, -121.553925], [33.980979999999995, -118.06396399999998], [33.719494, -117.795211], [33.745678000000005, -84.388979], [37.51454, -121.939815], [37.534478, -77.429999], [41.238995, -112.01453], [44.79368, -93.28883], [29.711701, -95.393141], [29.736691, -95.576167], [32.626857, -80.728226], [42.21583, -83.21904], [32.262170000000005, -106.733373], [38.939185, -94.553162], [34.145604, -117.306185], [45.06408, -93.18622], [40.85672, -82.21224000000002], [39.605124, -104.891011], [43.151108, -75.291864], [30.470269, -91.152475], [34.227765000000005, -117.847305], [40.499065, -122.372426], [33.964565, -118.169127], [40.428196, -74.22911500000002], [37.927978, -122.32287], [34.190373, -79.703233], [33.925301, -118.320546], [39.240737, -76.69497], [36.09140900000001, -86.735038], [40.726035, -73.903086], [34.035394000000004, -118.268618], [42.491985, -83.014381], [33.058065, -111.975821], [36.925892, -121.732895], [34.053178, -118.229234], [45.695536, -110.308741], [34.303733, -118.480594], [39.974185, -75.81971300000002], [35.146267, -80.82266], [42.24807, -121.79479], [43.592825, -121.567246], [33.775686, -118.00825], [32.220782, -110.77645], [35.19544600000001, -80.876114], [39.019289, -76.858756], [29.973086, -90.082987], [31.780711, -106.441158], [39.477392, -121.576752], [40.962514, -73.84949300000002], [30.377009, -85.438238], [42.979921, -76.131123], [30.41119500000001, -91.051437], [45.690516, -108.688517], [34.063376, -117.289651], [33.99773, -117.93485], [38.939291, -94.508975], [37.58125, -122.32541], [38.015881, -122.188879], [37.38202, -76.80604], [37.673374, -122.468215], [39.481023, -122.019351], [35.79688400000001, -78.505945], [39.148679, -121.040051], [40.71826, -112.0709], [36.20566, -95.97554], [35.82078, -78.74436999999998], [34.02391, -117.76547], [38.44804, -121.8557], [34.030444, -117.601691], [43.61953, -116.351361], [33.655725, -84.959491], [34.748456, -118.795422], [26.001492, -80.247947], [38.891827, -77.42495600000002], [43.604996, -116.590198], [33.936076, -118.093091], [40.137293, -86.128116], [40.05677, -104.98027], [32.778943, -117.061675], [35.493124, -108.492404], [35.834151, -119.053634], [28.36953, -81.36117], [40.917195, -73.781143], [33.902713, -118.255678], [45.52987, -122.64576], [42.362926, -83.07018599999998], [33.573757, -112.117184], [46.326538, -111.526306], [37.162135, -93.224534], [35.068065999999995, -85.08461], [32.64510300000001, -96.787748], [33.465936, -111.88861], [33.954808, -118.044878], [32.660764, -117.076866], [33.87771, -118.100162], [25.733269, -80.331645], [37.561683, -122.324408], [30.5212, -91.14549], [45.507012, -122.670754], [33.877137, -118.151369], [34.0806, -118.29402], [36.22842, -86.77278000000004], [39.87168, -104.9877], [43.598781, -116.549438], [38.820246, -123.021214], [38.835693, -76.869438], [25.78711400000001, -80.210988], [43.96339, -117.0058], [45.63639000000001, -118.68133], [32.64205, -96.82996], [33.872534, -117.665006], [34.673171999999994, -94.159261], [40.279405, -76.983377], [36.295341, -120.267902], [40.00376, -83.15391], [38.31233, -85.57762], [43.074273, -78.99091999999997], [42.96585200000001, -87.929148], [40.78475200000001, -74.470359], [40.11221, -83.02622], [43.182689, -77.599304], [28.64821, -81.47185999999998], [26.02801, -80.16594], [44.545065, -122.974745], [40.7153, -73.95184], [33.734586, -117.816548], [25.905628, -80.324502], [44.410383, -124.084227], [32.867115000000005, -96.837688], [34.830233, -117.18031299999998], [41.77822000000001, -87.6301], [42.133445, -79.93615799999998], [38.591588, -121.419658], [32.771012, -96.809235], [35.91488, -78.708186], [41.249631, -76.983356], [40.663209, -74.28671], [37.316052, -121.959787], [43.010459, -76.081441], [33.651949, -117.908607], [33.879217, -117.561916], [43.99324, -95.83792], [30.522112, -90.994089], [37.66474, -77.48100000000002], [34.23081, -118.473223], [41.8619, -87.92711], [41.497456, -112.015978], [33.876555, -118.078749], [25.768571, -80.369064], [37.372196, -121.85056000000002], [33.99557, -118.17683], [41.760697, -87.9451], [40.428243, -77.01055699999998], [40.750757, -74.115874], [40.74374, -73.84688], [44.931171, -93.139627], [39.425702, -76.805901], [42.948319, -85.641898], [38.435038, -78.865534], [37.448912, -120.849098], [29.54811, -81.21471], [42.964534, -85.67858199999998], [30.44242, -91.007914], [38.736889, -120.713056], [40.725921, -73.902121], [26.142525, -80.169749], [40.325679, -75.619387], [35.364949, -118.967601], [30.1868, -81.6412], [45.490659, -122.674709], [30.480618, -87.3235], [32.450834, -93.756519], [38.462745, -122.938684], [32.43967, -93.866875], [36.05975, -79.88022], [38.18938, -121.26282], [40.71816, -111.876839], [30.489918, -91.156516], [45.371522, -122.711774], [47.09861400000001, -122.293567], [39.833167, -84.285361], [40.77513, -73.66761], [32.399087, -110.97074], [37.271559, -119.534507], [34.243032, -117.433012], [35.418676, -119.060392], [45.79250800000001, -118.12891100000002], [43.921072, -93.083126], [45.109563, -93.468641], [26.142034, -80.202578], [41.62425, -88.12380999999998], [33.66864, -112.11639], [28.847393, -82.055727], [45.04119, -93.06181], [25.889511, -80.162851], [33.937, -118.279674], [33.899038, -118.104902], [30.47311, -91.110384], [28.45008, -81.447172], [29.703698, -95.59625], [38.875748, -76.990875], [38.47027, -76.77293], [34.054949, -118.450572], [25.899763, -80.160684], [35.27312, -80.836545], [41.0795, -73.92190500000002], [25.700336, -80.16168499999998], [40.331072, -74.062636], [25.718211, -80.438084], [35.834055, -78.679525], [45.05837, -93.2874], [34.580723, -118.133593], [34.067877, -80.922547], [44.90682, -93.274623], [44.691235, -118.07111], [39.95651, -75.18047], [29.708873, -95.305724], [39.260534, -76.703678], [38.99074, -76.37165999999998], [41.549573, -72.795129], [28.54923, -81.46892], [33.21379, -117.38954], [40.75366, -74.11048000000002], [37.391961, -122.16971], [33.70345, -84.16691], [44.97296, -93.40901], [31.767795, -106.458499], [25.78235, -80.23083000000003], [35.72327, -78.58349799999998], [45.8124, -123.4876], [45.63388, -121.21182], [40.07764, -82.90706999999998], [45.290677, -111.402877], [37.98325, -122.315941], [39.08428, -84.52284], [40.74675, -73.76444000000002], [43.171479, -77.505211], [34.86184, -82.251452], [39.74984, -105.01722], [41.165978, -77.53636800000002], [37.7564, -122.14882], [33.901115000000004, -117.469393], [33.927339, -118.286958], [28.003205, -82.453263], [38.716559, -121.374353], [40.72618, -73.90339], [36.300747, -86.710888], [32.177939, -111.002149], [29.967386, -90.043217], [32.691790999999995, -97.24106], [45.551942, -118.464734], [40.541768, -75.702749], [48.429091, -115.625866], [39.438183, -120.090034], [30.32055900000001, -81.722389], [40.132136, -83.016688], [39.475526, -76.27210699999998], [25.896545, -80.287796], [32.657707, -117.074056], [35.253818, -80.865095], [33.996752, -117.839688], [36.523995, -121.793684], [27.952297, -82.4503], [33.931013, -118.277123], [32.922342, -80.09509], [44.9468, -93.07931], [39.936751, -120.948947], [33.34452, -111.97209], [40.80566, -73.26933000000002], [40.850574, -73.946809], [33.863453, -118.19885], [32.90287, -96.72197], [41.522232, -72.81010400000002], [25.924717, -80.209838], [40.6531, -111.95788], [30.225095, -97.724918], [26.544291, -81.871363], [39.296582, -76.8253], [34.178692, -112.135251], [34.043144, -118.272534], [43.59357, -116.37458], [35.040655, -80.793943], [39.037142, -94.68245], [33.130638, -117.09273600000002], [37.527823, -77.625006], [33.942653, -117.278701], [38.94998, -94.539], [37.663641, -120.462366], [33.698253, -84.280469], [25.899639, -80.24234], [40.696677, -111.980672], [39.0161, -76.97769], [34.088799, -117.64971], [44.18057, -121.24452], [32.6423, -96.83391], [32.726426000000004, -117.098067], [38.556806, -121.444551], [38.36576, -122.712241], [40.591869, -111.902029], [34.14103, -81.24768900000002], [33.459445, -111.997782], [35.59777800000001, -80.76436600000002], [32.133749, -110.991452], [29.785175, -95.39631], [43.951994, -92.077487], [40.775743, -73.666688], [34.120965000000005, -117.890154], [37.78859600000001, -122.25118799999998], [40.69155, -112.2637], [38.393998, -121.949931], [40.677612, -73.803326], [25.580912, -80.38894300000003], [25.684325, -80.41642900000002], [35.155271, -80.892567], [32.34687, -86.09573], [34.040262, -81.114065], [40.27692, -85.51549], [36.15816, -86.62557], [41.022071, -78.436332], [33.947768, -118.294936], [33.720849, -117.972768], [40.68725, -73.61726], [34.003772999999995, -118.280919], [40.73353, -73.83568000000002], [28.509917, -81.330988], [39.620937, -119.890826], [32.72529, -117.16609], [28.607125, -81.42330600000003], [35.087063, -81.929191], [34.992020000000004, -85.283508], [41.546698, -93.959144], [33.662264, -117.875134], [29.841746, -95.390281], [34.083527000000004, -117.693753], [28.48977, -81.42934], [46.23506, -123.87196000000002], [38.017413, -78.484214], [25.831073, -80.242384], [46.728185, -113.658446], [30.386711, -87.087085], [34.489732000000004, -117.346772], [27.996455, -82.557689], [34.901135, -82.322847], [36.934506, -76.26568499999998], [28.380792, -81.505078], [30.460163, -81.67482], [45.233005, -123.15838], [37.1625, -121.663333], [38.703838, -121.36164], [38.358002, -122.76961], [33.913712, -118.114024], [39.41309, -76.60333], [34.068870000000004, -118.04218], [33.519574, -117.619926], [43.76909600000001, -118.045056], [35.268034, -119.00745], [39.93842, -86.34555999999998], [34.16028, -117.32985], [32.736715000000004, -96.823571], [43.28284, -123.35588], [45.567013, -118.458064], [35.826868, -84.281536], [46.748772, -122.196121], [33.762141, -117.471978], [33.600248, -117.173275], [35.699032, -78.579143], [25.973312, -80.182962], [25.76107, -80.391406], [41.67687100000001, -108.922626], [40.26795, -75.66838800000002], [34.942225, -82.19859], [25.761779, -80.33972299999998], [32.89951, -96.89813], [37.998674, -121.817967], [36.053169, -84.003149], [38.936587, -94.451769], [37.969993, -122.031953], [41.658543, -93.532761], [38.482803, -121.408786], [35.880651, -87.694678], [34.040601, -118.161862], [27.75833900000001, -82.675288], [32.78696, -96.789957], [40.213812, -75.49793000000003], [34.045074, -118.445169], [33.822053000000004, -78.953068], [29.594925, -82.382944], [35.591315, -82.567566], [40.89666500000001, -74.200663], [46.494438, -95.321905], [45.547458, -122.545623], [35.541576, -82.920781], [25.68514, -80.366197], [42.253948, -73.755421], [38.974211, -76.983591], [39.11351, -94.56479], [41.061986, -76.430821], [30.20394000000001, -97.7598], [38.569956, -109.55080900000002], [33.788925, -118.089165], [34.1211, -118.47972], [32.220788, -110.79081200000002], [29.626382, -82.392359], [42.275766, -117.789412], [36.344195, -105.644531], [33.786634, -84.49306999999997], [35.589613, -82.57730500000002], [42.98218, -78.91079], [33.690099, -117.76828799999998], [25.688289, -80.327775], [40.74414, -122.064818], [44.664775, -93.493084], [36.449828, -119.564562], [28.087989, -82.46094000000002], [44.54307, -94.315504], [44.32634, -94.49515], [43.01628, -85.69193], [34.07305, -118.233997], [33.56463, -86.729777], [37.766504, -81.12880200000002], [40.51805, -78.389702], [35.877231, -78.682586], [25.724484, -80.415415], [34.01345, -117.44487], [43.028224, -83.685485], [39.894882, -104.987695], [34.049279, -118.264413], [43.638337, -95.015513], [45.37506, -122.7557], [39.053016, -76.841286], [32.80631, -96.66302], [34.107453, -117.302636], [46.332755, -94.474636], [36.058773, -79.086361], [37.388011, -77.764059], [32.280202, -90.172801], [25.67213, -80.37835799999998], [38.989737, -76.626846], [46.563549, -95.506275], [42.863191, -73.769041], [45.795479, -120.017432], [44.951838, -93.08616], [44.96599000000001, -93.254181], [41.015556, -123.63671200000002], [40.367133, -76.69505699999998], [37.240945, -93.310319], [39.988995, -75.987689], [42.84905, -85.548487], [38.551683, -121.699518], [35.287748, -77.910855], [39.413162, -76.603964], [40.748351, -77.210236], [34.131696000000005, -117.302877], [34.517481, -120.217486], [37.702399, -122.017414], [34.821612, -82.284743], [28.553541, -81.33551999999997], [41.98331, -87.74911999999998], [41.437586, -73.05214000000002], [33.576589, -112.0132], [32.808440000000004, -96.70562], [38.898493, -76.976585], [45.366872, -117.229968], [37.357924, -77.351639], [32.814821, -96.644378], [37.542388, -77.372362], [32.77782, -96.51932], [39.54174, -78.499031], [37.551267, -122.376399], [36.765965, -121.758381], [33.908263, -81.221056], [43.781794, -124.141956], [38.68862100000001, -77.44084000000002], [40.041735, -76.284779], [30.438445, -97.672254], [38.73923900000001, -120.858148], [45.685578, -123.923793], [37.191653, -93.294683], [40.06332, -75.32154200000002], [41.378341, -71.906801], [37.2276, -80.24414], [47.40107, -92.92643], [40.277031, -80.328538], [35.784509, -78.584641], [25.92728, -80.20813000000003], [33.752117, -117.972833], [30.183897, -97.792629], [29.74274, -94.989], [33.747195, -78.865602], [41.103711, -73.714636], [37.827551, -122.28206000000002], [33.495113, -112.112943], [38.848855, -77.126202], [25.842546, -80.24974399999998], [33.614681, -117.707783], [25.808804, -80.24979], [45.49834, -122.6732], [40.87488, -74.166394], [37.53753, -77.31958], [34.16341, -118.47246], [38.02375900000001, -121.944224], [36.232672, -86.78146], [38.019207, -78.534253], [25.711094, -80.382351], [34.4886, -118.28649], [40.250682, -75.25713499999998], [37.649326, -122.091366], [27.821013, -82.70151899999998], [28.552387, -81.449477], [33.77344, -117.48507], [32.873818, -117.209634], [45.22416, -93.02789], [29.913493, -82.552852], [39.957014, -75.15545], [25.945369, -80.121122], [40.538531, -112.298365], [39.957014, -75.15545], [37.847983, -122.027629], [27.926664, -82.787595], [36.96117, -121.53648], [41.087912, -73.45704599999998], [32.734313, -96.682334], [37.77892, -121.18522], [37.78538, -122.19252], [45.50711, -122.77326], [35.82662, -78.75421], [35.148063, -120.647231], [34.068881, -118.042177], [29.632654, -81.71489], [38.665062, -121.355527], [28.336988, -81.648287], [33.789833, -118.207746], [37.694117, -77.711316], [28.42025, -81.40462600000002], [45.112019, -123.322505], [28.552519, -81.344663], [43.63749, -95.39018], [44.369627, -94.190479], [40.759393, -73.854056], [32.870255, -96.671972], [34.183089, -118.145764], [33.947331, -118.279698], [29.54811, -81.21471], [45.175706, -95.014454], [38.876487, -121.13248], [32.4465, -93.977833], [40.553342, -123.189709], [32.886463, -96.955975], [34.032938, -118.435743], [43.77328, -123.06034], [33.913059000000004, -118.256863], [38.202005, -120.723019], [41.04062, -111.951621], [43.126603, -77.78909200000002], [28.609581, -81.42733100000002], [39.384258, -77.411922], [32.775765, -117.134993], [27.111715000000004, -82.21734599999998], [32.804177, -117.151004], [41.373872, -73.610366], [25.929745, -80.125514], [33.436157, -79.132228], [37.182475, -93.317745], [45.547167, -122.678578], [28.572789, -81.55708100000003], [36.66925, -121.68301], [34.082792, -118.300465], [44.856927, -122.874283], [40.409881, -80.10793100000002], [35.813294, -80.17907], [27.964482, -82.452632], [32.809173, -117.152839], [26.549549, -81.85279799999998], [41.73241, -72.66328], [41.03006, -77.53116], [34.189312, -117.358654], [32.840851, -117.17823], [38.5494, -121.4738], [29.78291, -95.45771], [28.171101, -81.301735], [30.215856, -81.514088], [39.437645, -76.81963499999998], [44.630154, -122.95967], [35.071641, -90.016692], [37.403809, -122.022583], [39.28174, -76.731256], [41.50763, -84.13418], [34.791523, -92.061663], [38.957487, -76.905552], [37.881833, -121.276342], [33.925224, -118.328775], [37.516206, -77.42582800000002], [45.346017, -118.125058], [32.685014, -96.794002], [37.41932, -121.9441], [35.49336, -97.58338], [41.363334, -75.69776800000002], [37.581024, -77.469349], [37.53199, -122.0065], [40.376874, -111.819048], [34.336105, -117.398616], [33.66741, -112.2029], [40.54758, -111.41998999999998], [25.960692, -80.246623], [25.846972, -80.21169300000003], [37.800937, -122.282178], [34.0048, -84.5646], [42.239152, -87.86164000000002], [40.739277, -73.847148], [38.499769, -77.38072700000002], [29.637546, -95.210298], [33.069202000000004, -117.069174], [34.047333, -81.102824], [25.927231, -80.293364], [34.067317, -117.544458], [35.888662, -78.74704399999997], [33.92729, -118.26005], [32.91519, -96.74126], [26.237229, -80.136626], [34.494891, -118.21549], [28.56705800000001, -81.28600899999998], [35.180783, -82.178145], [35.33947, -119.00293700000002], [43.8447, -93.831372], [41.151043, -111.934764], [45.307975, -121.849168], [29.815832, -95.52287], [37.732124, -122.43164], [38.018236, -121.357147], [33.628957, -113.755701], [39.71744, -86.01083], [41.994222, -88.20724799999998], [33.9729, -118.168035], [34.119658, -117.807205], [34.176907, -118.394073], [30.435171, -86.941542], [25.866297, -80.24238199999998], [34.091501, -117.934255], [40.85501, -73.969541], [34.009026, -117.731155], [38.925576, -76.98355500000002], [25.601564, -80.381213], [33.487713, -112.151658], [40.244801, -76.883797], [32.67102, -97.36783], [28.449909, -81.48013900000002], [42.151719, -122.643567], [34.030449, -117.67476299999998], [30.471814, -89.68565500000004], [37.584372, -121.873251], [37.538574, -121.927322], [34.0204, -118.157291], [32.7507, -96.768219], [38.417622, -122.692165], [38.68204, -121.07612], [35.751859, -78.765519], [38.573802, -121.581112], [40.045786, -74.800168], [37.435811, -77.43109], [30.710498, -88.12159399999999], [39.984072, -76.726612], [38.730605, -77.197515], [45.525358, -122.665411], [39.114071, -94.5646], [40.049877, -85.677982], [34.100978999999995, -118.248697], [48.727353, -122.473099], [25.708799, -80.284041], [30.442997, -81.72131800000002], [38.935793, -77.13429000000002], [36.055375, -86.674786], [35.194494, -80.76600400000002], [39.59756, -121.536942], [40.285111, -78.851218], [27.84531, -82.326895], [26.254549, -80.136724], [47.093635, -122.62094], [30.3686, -97.61302], [33.927917, -118.25428], [40.72603, -73.37758000000002], [37.185791, -120.488187], [34.021178000000006, -81.2616], [38.99446, -77.33636], [32.292392, -111.012004], [38.717516, -121.364562], [43.15932, -77.63886], [39.24974, -76.679624], [29.335502, -81.131211], [45.049651, -122.952681], [41.904205, -72.278047], [39.56778, -76.14063], [42.36544, -83.1334], [32.713013000000004, -96.829527], [45.53968, -122.45665], [36.812737, -76.281571], [38.42512, -120.595101], [27.806746, -82.66224], [41.182674, -74.049767], [33.98808, -117.90122], [43.692876, -91.27518], [42.86291, -73.781], [38.66408, -121.35702], [38.318693, -77.749664], [42.426669, -122.791939], [33.921671999999994, -117.288457], [34.827166, -82.299751], [36.904421, -76.126036], [41.987734, -87.778775], [33.939351, -117.22211], [28.361158000000003, -82.344527], [34.149986, -80.953377], [37.819375, -77.474262], [43.962607, -122.920929], [25.925341, -80.153943], [35.000895, -85.298312], [29.13041, -81.12467], [45.471258, -122.67735], [25.477324, -80.45277800000002], [40.491041, -74.301507], [29.559499, -81.22255600000003], [32.7725, -96.62363], [40.117356, -75.350346], [38.013784, -121.998039], [28.8324, -81.31963], [39.63862, -104.82908], [37.622892, -118.839467], [34.059258, -118.252587], [37.345729, -120.677852], [33.779213, -78.986746], [41.763637, -88.00825], [35.75902100000001, -78.575766], [39.28233400000001, -104.896689], [35.618797, -78.567418], [42.3634, -88.11166], [45.50466, -123.86526], [35.01625, -85.16522900000002], [40.83458, -73.87406], [37.95299, -121.30888], [41.724788, -72.30686800000002], [47.796415, -122.217804], [30.289596000000003, -97.761594], [26.06534, -80.2155], [32.918056, -96.838276], [39.01799000000001, -77.103557], [26.355144, -80.118422], [28.5396, -81.29038], [34.70624, -82.45374], [25.72695, -80.38375], [28.193621000000004, -82.472588], [38.81267, -76.82048], [32.859029, -96.550856], [36.217647, -86.704601], [35.799324, -78.63690799999998], [40.547597, -124.126045], [39.805287, -75.452692], [33.90214, -118.26528], [39.249137, -84.445891], [28.35743, -81.49542], [41.97658, -87.86950999999998], [33.430076, -117.270111], [43.472756, -123.475106], [41.497515, -94.86862], [35.412397, -119.07183899999998], [39.175544, -78.04108199999997], [42.33463, -123.30108], [38.633917, -77.30059200000002], [37.97277, -122.3195], [40.85024, -73.94506], [39.979419, -83.254442], [33.974771999999994, -118.254498], [25.787687, -80.212748], [26.082605, -80.171639], [39.859808, -75.13722800000002], [37.134633, -121.982885], [40.9015, -74.13032], [45.41502, -122.76385], [39.01602000000001, -77.01961], [33.734586, -117.816548], [38.125278, -121.578611], [37.772431, -122.472433], [28.55317, -81.365493], [30.448856, -97.656113], [39.411462, -76.582203], [36.699819, -119.733288], [33.019472, -80.08918800000002], [33.93921, -118.09539], [43.298653, -92.29882], [40.42845, -111.88805], [38.742181, -90.44118], [34.065011, -117.312244], [42.180931, -70.918947], [35.992566, -86.592196], [37.87735, -122.184078], [38.1911, -85.72438000000002], [39.982391, -76.728826], [28.525758000000003, -81.459103], [34.08644, -118.30304], [38.610824, -90.204798], [40.61017, -74.11966], [33.88596, -118.19], [25.687155, -80.35779000000002], [37.124315, -119.736524], [46.601878, -111.788092], [35.7757, -78.641971], [37.158816, -93.262779], [25.848319, -80.314362], [40.330161, -79.73698], [30.369276, -97.744789], [37.377654, -121.83181299999998], [33.903994, -118.234371], [39.26321, -76.56774], [35.0889, -81.142723], [44.880663, -93.024319], [38.559364, -121.51398600000002], [30.735428, -88.11569399999998], [27.955688, -82.504695], [46.563051, -111.793924], [38.710748, -78.919162], [40.765269, -111.952729], [29.673767, -95.587209], [35.335091, -80.768684], [28.088104, -82.456497], [38.691137, -121.445404], [36.322331, -88.794953], [37.685433, -122.130149], [44.555836, -123.060082], [41.742301, -72.73562700000002], [33.475119, -117.138934], [39.963638, -74.997365], [33.987383, -118.392542], [37.981141, -78.222666], [34.06728, -117.55282], [29.87066, -95.36465], [38.010708, -122.017546], [25.68692, -80.416652], [26.08784, -80.20647], [34.992517, -82.245336], [38.918672, -121.081254], [34.106546, -117.925379], [36.081508, -86.71414200000002], [35.094977, -78.777798], [35.17595, -80.79824], [28.426273, -81.40463299999998], [43.061982, -77.47695300000002], [34.027243, -118.457926], [39.77133, -104.99073], [33.77475, -118.08644], [35.834665, -78.63865], [37.099346, -121.01585], [30.51056, -87.22218000000002], [40.08549, -75.125], [36.09686, -86.708839], [35.006657000000004, -117.714938], [34.172689, -118.55468799999998], [38.89209, -77.03945999999998], [37.31808, -121.978094], [26.13501, -80.16923], [26.65997, -80.07068000000002], [46.849857, -96.907967], [40.08622, -74.97041], [28.613988, -81.386901], [34.51078, -118.11133999999998], [38.837386, -122.589406], [42.01852, -122.61051], [37.290741, -120.460833], [39.186497, -108.280424], [34.440463, -82.04643], [38.501236, -121.451322], [30.191798, -81.69896700000002], [34.15815, -118.46925], [30.41733, -91.091954], [41.48565, -112.054149], [39.348802, -74.598315], [41.237113, -73.13963100000002], [42.21628, -73.63444399999999], [34.02772, -118.21213], [40.783293, -74.053359], [37.20709, -93.292335], [41.762872, -72.695759], [26.582354, -80.173212], [34.118306, -118.172302], [40.81075300000001, -73.936998], [33.385959, -111.820171], [37.405604, -77.265976], [45.65646, -110.980309], [42.38525, -83.15781], [38.597257, -121.504094], [34.458084, -82.641685], [40.117883, -75.351178], [41.67018, -81.24689000000002], [33.136698, -117.136814], [39.900221, -104.988178], [32.37034, -95.309806], [43.150499, -77.62049], [25.899365, -80.346975], [43.878003, -93.277146], [37.83265, -122.26662], [36.227457, -86.74687800000002], [30.481556, -91.152946], [30.193004, -97.73837], [29.67739000000001, -95.4237], [42.385137, -83.280821], [38.141274, -122.229181], [40.695816, -73.964563], [44.97252, -117.87944], [34.955238, -78.75772099999998], [42.97085300000001, -85.691204], [37.544631, -122.287892], [45.6887, -123.883855], [38.578752, -121.525771], [33.51924, -80.43411], [32.144719, -111.028661], [33.963879, -84.103764], [35.23727299999999, -80.798839], [26.65192, -81.79921], [25.771718, -80.339465], [28.037109, -82.45500899999998], [33.738316, -117.826513], [34.073843, -118.233249], [27.641466, -82.670748], [37.73235, -122.4141], [35.96949, -79.03372], [37.546817, -77.552093], [25.686318, -80.365866], [37.443436, -77.342763], [36.12977, -115.13831], [33.798376, -118.110024], [37.87404, -79.31172], [27.916612, -82.756936], [43.637873, -95.57964], [33.56713, -113.342572], [26.671351, -81.822559], [41.81494, -87.74954], [43.17416, -87.91601], [28.581122, -81.476117], [33.99429, -117.88468], [36.925288, -121.37795], [36.916882, -76.266791], [47.60804, -122.318311], [25.886455, -80.21079499999998], [40.428541, -79.937848], [28.53923, -81.283162], [34.05424, -118.20307], [34.009611, -118.418273], [32.250535, -110.916051], [28.369754, -81.540903], [36.97969000000001, -121.913856], [36.832585, -76.121012], [25.866255, -80.387721], [38.041977, -122.788751], [27.10976, -82.35376], [38.3855, -122.71631], [39.29029, -76.72188], [41.659905, -78.802681], [33.83034, -118.28725], [34.90895, -120.344601], [47.616215, -122.188493], [37.890182, -121.569632], [34.031289, -118.274444], [43.13093, -77.65241], [45.300973, -93.797639], [35.86402000000001, -86.453787], [45.268145, -93.556362], [27.473775, -82.22973499999998], [25.863028, -80.322622], [25.699259, -80.334076], [42.21202, -87.95518], [34.444115000000004, -118.600787], [27.780424, -82.36008000000002], [34.198069, -118.95384], [40.029631, -75.235215], [33.886977, -118.285418], [45.17108, -121.07786000000002], [38.418663, -122.934587], [39.012542, -76.978571], [35.965902, -78.517744], [25.770829, -80.28724], [30.548909, -87.195272], [38.367194, -120.795865], [25.781643, -80.31685999999998], [28.485529, -81.417363], [39.057377, -77.076784], [40.12991, -75.11215], [25.750123, -80.207438], [39.93927, -75.14329000000002], [45.799481, -120.010232], [40.75909, -73.83876], [32.9763, -117.25161], [25.811402, -80.193826], [38.298372, -85.622795], [37.962472, -122.509353], [45.405757, -122.29394], [42.319404, -87.856096], [27.792182, -82.332426], [35.146840000000005, -80.89619], [25.86554, -80.20855], [36.105823, -86.81385999999998], [40.76815, -74.06499000000002], [33.789566, -110.004355], [34.15445, -118.314565], [30.483341, -91.158834], [45.224837, -93.396906], [40.166015, -111.646838], [40.83991, -73.92914], [36.01714000000001, -86.707088], [37.561617, -122.276377], [33.77871, -117.89506000000002], [34.129672, -117.933631], [45.701934, -120.33176], [46.130267, -111.972424], [34.859933000000005, -82.267411], [34.884291999999995, -82.405055], [36.464577, -86.685808], [40.036125, -76.307472], [30.43666, -91.03009], [35.45703, -97.452], [42.620088, -113.12739], [25.764489, -80.261577], [28.551912, -81.491336], [33.939179, -117.155274], [33.913045000000004, -118.125], [47.350784, -115.29131], [40.244448, -75.61606], [41.76668, -72.685114], [41.055182, -73.52080699999998], [41.906192, -87.965161], [39.878294, -122.200618], [45.58047, -122.54358], [37.45227, -122.12716], [44.815172, -92.933914], [40.87192, -111.89714], [45.50154000000001, -122.66063], [32.765645, -96.769031], [33.044441, -80.091813], [40.94524000000001, -77.719398], [34.05643, -80.973438], [39.01665, -76.91064899999998], [32.8926, -79.97288], [30.427286, -91.169297], [33.765953, -117.933779], [28.194646, -82.465234], [45.658487, -110.845775], [33.98748, -118.13756], [36.0932, -80.23973000000002], [36.841524, -76.286069], [30.306399, -97.745752], [34.909979, -82.716041], [34.01851, -118.154266], [25.51963, -80.426346], [30.330234, -81.675079], [25.844853, -80.267944], [37.742457, -120.995425], [43.06261, -76.15814], [43.13316, -77.49226], [33.854319, -117.919959], [39.550448, -104.869773], [35.137056, -90.092664], [32.709734000000005, -117.119503], [39.953052, -77.647258], [45.164719, -93.0311], [45.304998, -93.002707], [33.305542, -79.957573], [42.559788, -82.85938], [26.528056, -81.869772], [33.384951, -112.080823], [42.401802, -122.93522], [34.137766, -80.915174], [33.98887, -118.065043], [39.40987, -104.86633], [33.46071, -117.66024], [25.890445, -80.18243299999997], [37.814097, -122.477939], [39.144423, -94.562156], [42.918337, -83.677207], [37.919104, -77.351795], [37.507951, -77.105315], [30.679615, -84.889135], [33.779062, -117.88168600000002], [41.66946, -72.77826], [34.12818, -114.376565], [38.57683400000001, -121.516801], [25.761075, -80.390041], [45.66081, -118.79744], [34.022608, -117.552949], [37.942389, -78.11301800000003], [34.321412, -118.496747], [34.088557, -118.873366], [34.54943, -92.860445], [25.702533, -80.446775], [35.086433, -85.07931500000002], [33.97435, -118.124088], [40.32758, -74.3616], [47.312418, -93.022903], [28.452494, -80.974239], [39.6144, -105.09141], [34.176783, -118.867584], [27.269363, -82.49662099999998], [33.836971000000005, -117.311843], [41.214675, -73.81014], [28.564772, -81.20727600000002], [33.982518, -118.440885], [36.655084, -119.592565], [40.978036, -78.25732099999998], [33.987739000000005, -118.398953], [38.427901, -122.850569], [41.8714, -87.74908], [25.805278, -80.341448], [29.43458, -98.502691], [33.927647, -118.256378], [36.559853, -80.464184], [30.72404, -88.06846999999998], [36.145541, -119.072458], [38.211856, -120.764412], [27.95619000000001, -82.50200000000002], [44.965755, -93.279326], [32.705831, -96.827274], [37.997449, -84.525386], [44.896091, -93.247092], [39.19325, -94.58994], [40.633073, -74.01589200000002], [38.93321, -94.67425], [33.42955, -112.08599], [33.916115999999995, -118.189274], [42.477975, -123.35224], [25.898848, -80.257912], [33.996386, -117.870175], [26.14227, -80.21941], [41.056283, -73.51629100000002], [33.98751, -118.13759], [25.702037, -80.33917], [25.925896, -80.188148], [38.67337, -121.62422], [38.47855, -121.50875], [33.967599, -118.161907], [41.290429, -72.420812], [43.773018, -119.002028], [39.955961, -76.67344200000002], [37.319906, -121.890318], [38.907512, -78.500093], [25.901539, -80.340548], [25.926031, -80.15397], [25.823952, -80.23977], [28.385836, -81.504651], [26.67329, -80.17066700000002], [38.21669, -122.13818], [39.28868, -76.6353], [28.207063, -82.666229], [34.275016, -119.286759], [34.067519, -117.555245], [40.349725, -74.285119], [41.23054000000001, -95.92625], [37.766307, -122.40523600000002], [44.97108, -93.44516], [38.940287, -76.94081800000002], [32.91648, -96.74275], [34.019677, -118.424528], [28.422651, -81.404776], [46.919914, -97.865792], [42.06321, -88.03088000000002], [25.899548, -80.184336], [32.220873, -110.82591200000002], [34.092218, -117.301956], [41.482862, -72.768512], [36.825794, -77.952849], [33.663287, -117.89762], [37.141851, -93.238936], [29.59011, -98.598458], [40.239347, -77.12163000000002], [30.427088, -84.23248000000002], [38.499957, -77.381173], [45.28908, -122.76928999999998], [37.557611, -77.412879], [40.72009, -111.90364], [33.925928000000006, -118.246268], [33.875242, -118.082373], [34.184458, -118.905442], [37.776187, -122.393977], [40.799824, -73.929906], [40.631421, -75.468102], [44.395333, -122.24881], [44.861161, -93.473487], [33.85378, -117.928351], [42.222851, -85.78081], [35.80256400000001, -78.619924], [33.675421, -117.657576], [25.924682, -80.212288], [34.06127, -118.165252], [33.359132, -117.534847], [29.749647, -95.365633], [27.955688, -82.504695], [40.966856, -76.893865], [32.736514, -117.129306], [40.84735, -74.01775699999997], [39.826195, -76.933709], [37.709573, -122.165147], [25.685223, -80.417573], [39.12269000000001, -84.58314], [28.69334000000001, -81.38875999999998], [32.67645, -96.85696], [33.967651000000004, -118.162393], [45.51371, -122.79283999999998], [39.007234, -77.067718], [33.88255, -118.02589], [40.124355, -75.408098], [34.15168, -118.139408], [38.62756, -90.2177], [35.78052299999999, -78.362297], [43.79667, -92.13085], [41.055339, -73.52084], [25.920771, -80.210312], [33.215843, -111.917735], [39.923755, -83.012333], [32.89931, -96.907904], [35.46413, -97.46353], [34.073549, -80.969227], [44.90342, -122.9851], [32.720292, -96.822877], [28.451034000000003, -81.35744], [28.486795, -81.419402], [35.210714, -111.527184], [32.46638, -86.450811], [44.858797, -93.329039], [41.551422, -72.745038], [33.988963, -118.38055], [40.015793, -78.134765], [28.597576, -81.297676], [33.88149, -81.418237], [38.385124, -75.311432], [33.91428, -84.399342], [37.37812, -122.06757], [25.759462, -80.327895], [35.2067, -80.920239], [35.383322, -119.050717], [36.9048, -76.253946], [33.666653000000004, -117.601384], [33.46585, -112.20337], [32.726954, -96.918396], [41.101767, -73.991361], [38.566705, -121.50401399999998], [26.158565, -80.164728], [39.107642, -105.89024], [30.423449, -91.144627], [38.774989, -121.26128500000002], [37.460171, -122.343033], [44.91966, -93.27449], [34.132634, -117.500668], [29.78408, -95.55943], [39.309726, -120.20565], [30.413969, -91.144893], [38.337764, -75.111687], [27.923665000000003, -82.73057299999998], [38.728512, -76.88126199999998], [35.28867, -80.7298], [25.714343, -80.41640100000002], [37.912591, -121.172238], [33.841995000000004, -118.293574], [41.798272, -124.179529], [43.223603, -75.735875], [39.96401, -77.57743], [38.757342, -77.436332], [33.876574, -118.074986], [38.510338, -121.460052], [35.98532700000001, -78.536377], [40.06907, -75.32184000000002], [46.552902, -122.284044], [28.405376, -80.710061], [44.75646, -122.425062], [44.85974, -93.36242], [26.138244, -80.411757], [37.374542, -79.49404100000002], [42.28075, -87.97394], [39.154146, -119.743283], [43.05019, -88.32556], [40.908665, -74.595209], [30.46135, -91.1658], [27.388156, -82.46296600000002], [40.353213, -75.392145], [39.652678, -106.949479], [32.796857, -117.112061], [32.451521, -93.860481], [39.724507, -105.190609], [37.575479, -77.47706], [40.48712, -111.89598], [40.906916, -124.040375], [34.005829, -117.960563], [43.70274600000001, -73.506644], [34.042975, -118.217073], [28.14258, -82.31668], [41.194578, -73.195027], [37.52782, -121.99832], [33.935108, -117.878504], [41.880708, -72.661203], [40.598019, -122.31203700000002], [36.757902, -76.294467], [36.794894, -76.326307], [42.96934, -85.67866], [44.86590800000001, -93.154159], [45.212518, -93.413115], [40.44220900000001, -120.27926200000002], [35.28041500000001, -81.355626], [39.008148, -122.894369], [37.347807, -121.919415], [43.213203, -117.04813], [38.940518, -94.578836], [44.633236, -124.015693], [30.44557600000001, -86.62173299999998], [43.197792, -77.63368100000002], [40.752078, -73.74297], [37.580529, -121.043874], [41.300407, -72.906249], [41.782896, -124.168428], [32.78688, -96.79168], [43.71086, -124.10032], [38.31247000000001, -85.58697], [32.7945, -96.81459], [36.8235, -76.432968], [37.679597, -121.049375], [25.840751, -80.369437], [39.59626, -74.39], [30.1602, -81.747235], [32.653394, -117.098025], [42.484356, -123.495633], [42.421031, -87.854682], [42.213238, -84.981597], [26.18241, -80.15254], [33.590994, -112.246442], [33.662892, -117.754286], [29.735816, -95.459345], [45.231775, -122.809199], [35.614075, -78.566926], [34.023633000000004, -118.242222], [34.5104, -79.3823], [40.262102, -74.512182], [37.61023400000001, -77.501389], [34.089420000000004, -85.23693], [33.804, -118.20752], [42.00218, -121.824764], [33.93869, -117.877179], [25.94736, -80.150153], [46.617105, -111.868646], [35.403453000000006, -78.489986], [34.436615, -119.201654], [45.42217, -122.396115], [39.79174, -75.11589599999998], [29.964577, -90.04115999999998], [40.225332, -84.843728], [33.6872, -117.87895], [33.49703, -117.14845], [39.02262, -104.833032], [42.95062, -78.70363], [40.083864, -74.93507199999998], [36.424383, -86.46448000000002], [41.84636, -87.63839], [34.08599, -118.21589], [44.89131, -93.18461], [32.50789, -80.968712], [34.027701, -118.455089], [34.0274, -84.05145], [30.336616, -97.711898], [39.81544, -104.95318], [25.882822, -80.24470500000002], [45.020013, -92.984761], [44.984775, -93.241385], [28.551923, -81.490237], [27.300432, -82.484008], [41.79866, -87.743], [39.107194, -94.569394], [42.398345, -93.570691], [34.30755300000001, -92.214585], [33.966727, -112.12812], [36.32708, -119.35499], [34.289722, -119.156389], [39.738042, -105.319609], [32.89087, -96.97987], [43.601264, -116.283666], [40.925536, -73.80674599999998], [32.37585, -85.84952], [29.704907, -95.50441], [28.073418, -82.739067], [35.95433, -80.53575], [33.78948, -117.88722], [34.325433000000004, -118.503728], [38.053673, -78.919124], [25.890108, -80.189852], [36.85203900000001, -81.476122], [44.975386, -119.721953], [34.27441, -118.54049], [33.163881, -117.211922], [44.86328, -93.44356], [44.95007, -122.99008], [34.278663, -118.421148], [40.440255, -124.035547], [40.830805, -73.852098], [42.72436, -71.45036999999998], [43.07478, -86.21843], [34.273449, -79.704169], [38.660905, -121.344125], [30.375825, -85.43833599999998], [28.36385, -81.365658], [35.18459199999999, -77.92904], [26.213933, -80.13650200000002], [40.798641, -73.47241], [45.54679, -122.66794], [29.62014000000001, -82.34008100000001], [32.93906, -117.110685], [33.382618, -79.305647], [34.264534999999995, -118.472046], [35.107859999999995, -80.9786], [44.09731, -121.30192], [33.724628, -117.802693], [38.966426, -76.951336], [47.125542, -118.353165], [44.97369000000001, -93.0885], [33.967395, -118.236923], [39.711727, -86.26913], [27.740274, -82.676399], [38.38192, -77.54274000000002], [28.175843, -82.392021], [34.156447, -118.247689], [45.936421, -123.92369], [38.24489000000001, -77.52512], [36.844893, -76.26911700000002], [37.677951, -122.11118700000002], [40.6821, -111.9816], [36.750583, -119.796502], [40.889214, -73.815175], [30.52142700000001, -87.25637900000002], [36.174173, -86.770768], [29.735954, -95.410677], [37.8713, -122.30531], [33.89679, -117.484445], [25.78457, -80.23617], [30.24523, -82.67514], [37.766046, -121.349271], [34.10375, -117.98352], [32.513478000000006, -93.714299], [45.542395, -122.495753], [26.162503, -80.162402], [37.545022, -77.457875], [25.899896, -80.16064399999998], [43.02684, -88.04221], [33.91832, -118.37047], [34.03185, -117.55047], [38.63089, -90.14205], [38.61065, -90.30346], [33.683489, -117.85836299999998], [34.172117, -118.46771], [36.458429, -121.37861399999998], [34.024883, -118.155909], [38.80038, -77.07812], [34.15316, -118.3583], [33.887501, -118.104526], [37.940218, -121.298306], [33.753333000000005, -117.848046], [37.988079, -122.304326], [37.104795, -121.66197], [34.028102000000004, -118.211455], [30.399839, -91.106644], [41.84241, -87.65785], [26.54778300000001, -81.76325600000001], [39.260534, -76.703678], [26.175209, -80.155684], [43.088605, -88.058054], [38.897792, -91.595538], [34.140958000000005, -118.709618], [32.98588, -96.88277], [38.679834, -121.339404], [27.960894, -82.787713], [34.02391, -117.76547], [28.45317600000001, -81.400087], [45.352419, -117.22987], [37.545146, -120.901655], [28.344885, -81.361572], [38.340364, -75.15412099999998], [39.974227, -75.202888], [33.35713, -111.89428], [37.309517, -76.731034], [36.203931, -121.140285], [46.33436, -94.46432], [41.84537, -87.63495], [25.68608900000001, -80.395911], [40.384936, -76.65019699999998], [33.18032, -97.100411], [38.198608, -122.160829], [32.87737, -83.765999], [25.761063, -80.41539], [33.51955, -117.61994], [25.686246, -80.416687], [36.0539, -95.940702], [34.872217, -82.22451600000002], [36.139944, -85.428496], [42.725819, -84.553259], [29.66135, -81.677751], [38.946731, -77.065007], [28.451145, -81.46090699999998], [41.27262, -81.62651], [39.137401, -85.95792], [38.5932, -121.44485], [44.83333, -93.163828], [33.9455, -118.279518], [33.298896, -111.832847], [37.74423400000001, -121.486932], [47.43256, -122.84072], [40.714062, -73.953], [37.506722, -122.248116], [42.23079, -122.746134], [39.733708, -84.20517], [40.173556, -77.280723], [25.89281, -80.20962], [40.73773, -74.07833000000002], [40.968287, -124.035948], [42.191689, -121.5959], [37.025353, -120.6356], [42.00603, -88.02773], [35.20273800000001, -80.757515], [34.078944, -117.883061], [28.598318, -81.29908], [28.027248, -82.168894], [32.914284, -96.738979], [34.15463, -118.82083], [48.345047, -122.33625], [46.27757, -116.598718], [27.92305, -82.32696], [26.543347, -81.871341], [29.99282, -90.04883000000002], [33.422416, -112.233618], [35.92242800000001, -78.742118], [27.160896, -80.304168], [38.458799, -122.716903], [34.15436500000001, -118.287615], [34.002357, -117.379068], [36.152748, -86.779315], [34.024932, -117.807923], [38.991646, -77.01007], [36.841031, -119.689618], [34.029089, -118.004654], [42.239486, -123.074011], [32.956634, -117.1006], [44.11852, -116.9447], [35.849659, -78.58235400000002], [39.14384, -76.64479], [32.787074, -96.853428], [41.728839, -72.755865], [25.748103, -80.310353], [41.29522, -73.67721999999998], [37.203081, -121.711774], [30.434927, -84.363052], [39.018273, -78.285723], [34.012749, -118.256503], [29.60267, -81.24986], [44.829239, -93.398128], [40.344, -79.79867], [35.77587800000001, -119.214159], [40.252229, -75.252204], [34.03038, -117.68486], [37.549323, -122.292495], [33.099435, -86.738787], [38.89743, -76.95004], [26.22525, -80.13627], [33.81683, -84.61724], [29.94488, -90.090098], [25.935124, -80.12176099999998], [40.85221, -111.91061], [33.785435, -81.100284], [33.410743, -112.002042], [34.04365, -118.44373], [26.238188, -80.136383], [36.308082, -80.24020300000002], [34.148976, -118.040357], [25.820613, -80.361819], [37.289459, -121.870684], [26.709879, -80.078856], [32.82871, -96.824978], [35.23172800000001, -80.859675], [35.25556500000001, -80.845187], [35.779812, -78.645041], [25.71833, -80.303329], [42.309305, -122.846245], [33.389266, -80.726301], [42.989662, -83.614336], [40.719033, -73.580621], [45.65175, -122.85166], [35.836281, -78.58152199999998], [30.704544, -85.956956], [25.889312, -80.16566999999998], [33.853737, -117.914746], [46.832365, -95.738677], [28.367701, -81.40435500000002], [26.602887, -81.638948], [41.06871, -111.97207], [30.603467, -87.127854], [35.37594, -118.936396], [46.543482, -111.946059], [33.972033, -118.2806], [34.26383, -118.33393], [39.30118, -76.71315], [28.57991, -81.37518], [40.658945, -74.002994], [28.449954, -81.466714], [41.429203, -73.315737], [40.010246, -76.188064], [38.821697, -77.127031], [27.717440000000003, -82.38355], [33.546332, -86.749921], [34.024933000000004, -118.43411299999998], [34.16659, -118.499138], [33.457971, -112.346395], [38.554726, -121.404322], [33.743015, -84.40320600000003], [37.83989, -122.26376], [44.76216, -94.85153], [35.023308, -85.171949], [45.073417, -93.316465], [38.507881, -121.57908], [34.043774, -118.456033], [29.583631, -82.925531], [34.08716, -117.67811], [40.591647, -74.236325], [25.750508, -80.368004], [43.07657, -76.21454], [39.02113, -77.431651], [33.873188, -117.523441], [39.123852, -75.715502], [30.290058, -81.96618199999998], [35.39901300000001, -119.47418600000002], [45.01828, -93.28236], [37.09657, -80.563202], [44.809854, -123.027548], [45.191317, -122.794546], [38.595976, -121.402845], [43.913149, -94.173501], [39.03039, -76.85348], [32.959140999999995, -80.183254], [38.522472, -121.52158], [37.726348, -121.640625], [34.240254, -117.429524], [25.92861700000001, -80.182571], [39.535921, -123.415421], [40.553423, -74.317456], [29.70212, -95.29549], [44.756486, -122.452146], [41.05211, -76.86213000000002], [25.715057, -80.39801800000002], [39.871485, -75.102027], [35.635693, -118.94412], [33.987363, -118.395655], [30.00643, -90.01898], [33.7482, -117.84307], [27.468443, -82.57539399999997], [34.08209, -118.70453], [40.73043, -111.90392], [34.861694, -120.430122], [37.316537, -121.960723], [33.953571999999994, -87.331233], [42.86313, -73.76906], [38.643064, -121.429758], [37.54218, -77.43394], [39.261279, -94.660493], [41.039213, -73.75934000000002], [33.481113, -86.021945], [39.547017, -107.657957], [40.861917, -74.01194699999998], [41.83418, -88.02085], [25.8878, -80.32394000000002], [33.979156, -117.370739], [41.836716, -77.566158], [34.032979, -118.137447], [34.053940000000004, -84.54948], [29.526422, -98.39309], [34.11966, -117.807473], [39.98375, -76.71892], [35.77611, -78.55564], [32.327009000000004, -86.266289], [38.670409, -77.253964], [32.92866, -96.759763], [33.92001, -118.28306200000002], [32.793038, -81.593304], [37.018164, -121.564611], [41.252311, -73.529478], [48.388876, -114.313709], [34.350224, -118.504081], [35.790677, -119.143049], [25.604104, -80.35335500000002], [34.084719, -117.300848], [39.115587, -122.905844], [40.740512, -73.844894], [44.97726, -122.99123], [43.47315, -123.478], [41.549289, -72.746923], [40.66734, -111.90153], [33.912492, -84.425202], [37.53358, -120.890399], [33.623271, -117.697281], [39.178001, -123.210265], [38.85306, -77.397186], [40.908188, -124.088842], [33.187907, -87.270708], [40.005986, -75.761216], [39.74755800000001, -84.23956899999997], [33.25533, -96.61159], [40.00979, -76.12862], [45.500386, -122.675127], [34.027452000000004, -118.274482], [40.292408, -111.725846], [33.9828, -84.3414], [34.037001000000004, -118.02349], [37.96099, -77.436334], [47.61733, -122.18853], [35.439223, -79.217745], [40.164481, -111.646832], [38.857121, -76.852892], [39.979344, -75.203851], [28.571241, -81.40717099999998], [26.70799, -80.145645], [39.412604, -77.42094300000002], [26.269255, -80.125846], [25.717112, -80.33022700000002], [28.085315, -82.45454000000002], [40.78384000000001, -73.54295], [33.174966, -87.48088], [28.613386, -81.41498100000003], [28.194548, -81.15969100000002], [43.60486, -116.27801], [25.796834, -80.338403], [33.943224, -118.29364], [27.863241, -82.32651800000002], [27.982596, -82.278145], [46.414135, -114.152145], [37.851504, -122.222566], [42.401062, -76.00934699999998], [29.948159000000004, -95.39316], [37.985035, -121.266958], [34.04333, -118.27299], [40.348244, -74.47856], [38.633879, -77.37028000000002], [30.29092, -85.641899], [40.54269, -74.28818000000003], [38.485991, -122.96201200000002], [35.22127000000001, -89.90907], [44.79302, -95.80869], [37.786464, -80.022936], [39.70726, -104.82773], [33.518607, -111.88792], [44.19109, -94.00091], [28.097851, -81.951642], [33.741899, -117.837713], [35.813327, -78.537894], [39.197245, -120.099336], [29.54273, -98.57563], [28.583702, -81.409376], [26.593673, -81.865023], [34.08495, -118.21919], [41.89301, -71.37746], [37.596657, -122.055883], [34.085158, -118.21868700000002], [43.22120200000001, -75.438973], [30.34419, -81.54595], [37.951745, -122.327449], [30.333098, -81.76210400000002], [29.587892, -98.623321], [34.152617, -118.113069], [33.87611, -118.1662], [44.874768, -93.044992], [34.145561, -118.756638], [30.280305, -97.740884], [45.6041, -121.13445], [39.198149, -85.958637], [33.94325300000001, -118.316751], [36.876452, -76.198656], [34.143367, -80.94968100000001], [34.20221, -118.34031], [29.127713, -81.27565200000002], [42.49127, -83.02775], [34.952391, -82.007499], [39.61976, -104.8994], [34.187856, -118.150482], [27.333093, -80.374227], [28.851984, -82.495975], [33.95328, -118.08998], [43.005117, -124.41571100000002], [38.68522, -121.521365], [33.85991, -118.29892], [29.57958, -98.31549], [38.702211, -121.10485], [37.29905, -121.87467], [44.740671, -121.231849], [33.927733, -118.071748], [30.010609, -90.013211], [36.83922000000001, -121.363605], [32.84396, -86.59527], [30.584876, -87.01181899999996], [37.052561, -77.564624], [32.746412, -96.768705], [35.741847, -78.649126], [28.618714, -81.254559], [34.04064, -118.05755], [45.603979, -122.039963], [26.01156700000001, -80.158135], [48.355642, -100.242323], [25.83548, -80.20618], [38.602481, -90.22873], [29.68045, -95.38746], [44.25386, -93.28652], [33.033488, -96.992115], [40.942021, -77.726136], [27.269119, -82.481073], [38.48295, -90.35798], [32.759538, -117.182691], [39.37769, -106.19333], [45.259562, -122.76933], [29.717051, -95.377832], [39.153546, -76.649712], [33.749984999999995, -117.4541], [45.78058, -123.345231], [34.273998, -119.135401], [39.669868, -75.600348], [34.962659, -90.034573], [40.00897, -75.06812], [37.960855, -122.053254], [38.88287, -94.60461], [40.10236, -75.75392], [36.962988, -76.605773], [25.925341, -80.153943], [35.2278, -78.353151], [42.33921, -83.21598], [42.933089, -78.797787], [39.55424, -86.04385], [38.099385, -79.325548], [40.798276, -73.478096], [40.87155, -73.87210400000002], [40.422298, -80.029602], [33.991863, -117.88878400000002], [45.068981, -93.272391], [40.66357, -75.38221999999998], [34.020511, -118.278128], [32.750946, -117.24229], [39.984351, -75.825261], [43.96996, -91.99529], [35.151089, -90.038012], [30.384968, -87.29606700000002], [33.778656, -117.876554], [28.253995, -82.299225], [45.085133, -95.042585], [39.709255, -84.366419], [36.886628, -81.375743], [30.42396500000001, -91.074987], [37.363651, -121.897161], [45.908317, -123.791865], [25.901292, -80.324525], [29.699690000000004, -95.28239], [34.492166999999995, -118.283689], [29.60095, -95.21922], [37.700806, -121.812376], [32.969663, -96.821382], [36.956547, -86.49703199999998], [37.743949, -122.405578], [37.14885, -93.423346], [25.672208, -80.375937], [25.890193, -80.188148], [33.769079999999995, -117.91628], [39.13917100000001, -120.926494], [32.792589, -117.20761], [32.855826, -79.989448], [34.022158000000005, -118.07228899999998], [40.130809, -76.792402], [38.919905, -91.75492], [32.86775, -97.00057], [33.85671, -78.754663], [33.498435, -86.789298], [33.78986, -118.22506], [37.983275, -122.041624], [37.54988, -122.05462], [25.945914, -80.205394], [43.98887, -121.33726], [29.649357, -95.21878], [29.965253000000004, -90.110382], [33.967226000000004, -118.371303], [28.297694, -80.742813], [41.96699, -78.63220799999998], [34.067368, -117.564442], [37.99496, -122.29113999999998], [36.729472, -77.52460500000002], [39.600517, -104.88805], [42.96244, -88.00398], [40.66411, -74.108003], [34.042685, -118.21726], [34.029705, -81.049493], [33.5387, -112.112266], [45.603084, -94.45454], [40.630251, -111.87619], [26.717532, -80.087686], [35.159216, -78.716001], [42.72726, -85.67311], [25.883587, -80.21260600000002], [35.127677, -90.076141], [45.15939, -93.16343], [33.4621, -112.15734], [25.733028, -80.321763], [32.72703, -117.167418], [34.714473, -92.269602], [34.234565, -118.296206], [37.783158, -119.072913], [39.149884, -78.066963], [36.570449, -121.518553], [34.199682, -79.349588], [38.686341, -120.968326], [32.778562, -117.060988], [28.2607, -81.43630999999998], [25.867058, -80.208378], [44.97726, -122.99123], [33.90265, -116.642256], [44.890877, -122.994099], [46.47175900000001, -114.06984], [33.871449, -117.722527], [33.902094, -117.560423], [37.847718, -122.027775], [29.261769, -81.093959], [40.738074, -74.217299], [29.393089, -98.648315], [42.063878, -122.602863], [42.69934600000001, -73.708244], [42.344785, -88.16949], [33.862414, -118.319617], [30.375491, -86.28955], [30.474582, -83.88408000000003], [33.740439, -117.833716], [44.49599, -93.14571], [27.690126, -82.417902], [38.664153000000006, -76.874588], [37.515124, -121.939777], [39.60019000000001, -77.6772], [40.7253, -74.0889], [34.126196, -117.916106], [38.50894, -77.378039], [34.173528000000005, -118.556479], [40.16300800000001, -76.022458], [36.069748, -86.695402], [44.827169, -93.198405], [36.864207, -76.19519100000002], [36.062928, -79.423454], [25.769377, -80.343816], [43.219692, -124.305061], [35.267305, -80.743279], [28.385324, -81.40444000000002], [36.263772, -86.718873], [32.15929000000001, -111.0072], [39.12608, -77.07221], [36.486797, -119.294875], [40.06478900000001, -75.08949399999999], [32.777358, -97.473203], [34.00067, -118.4095], [37.29096, -121.87167], [35.741454, -78.868306], [41.531811, -72.798073], [33.918329, -118.300385], [37.250508, -121.931215], [37.37567, -122.067965], [33.869679999999995, -117.671545], [45.203955, -93.553052], [45.259934, -93.708017], [37.542979, -121.921971], [36.86949600000001, -121.404173], [33.97891, -118.39208], [37.617417, -122.152778], [46.992269, -114.44105], [40.07949, -75.16765], [40.653927, -74.00794599999998], [38.772056, -77.18265500000003], [40.82386, -73.005207], [41.032766, -73.81938000000002], [25.87242, -80.20888000000002], [42.31955, -83.68854], [39.29973, -76.74301], [34.071649, -117.942113], [39.187867, -120.83036], [44.716482, -116.0627], [28.451938, -81.400468], [33.93224, -118.28082], [45.29838, -93.79926], [38.67106, -121.576444], [45.652195, -120.954011], [26.135342, -80.144171], [25.92675, -80.153746], [29.703685, -95.53791], [32.191997, -110.82397], [32.8661, -117.229658], [41.096168, -93.778114], [37.96079, -122.05322], [43.166804, -75.31314], [44.86243, -93.42506], [30.490447, -86.119763], [43.251369, -88.26155200000002], [32.919763, -79.878264], [41.028088, -85.252307], [31.659177000000003, -89.16049100000002], [38.94403300000001, -76.79809200000003], [34.0586, -118.454308], [44.970606, -93.359263], [35.049521, -83.882849], [33.142648, -80.32215699999998], [44.24497, -88.74029], [29.998096000000004, -90.073536], [33.813317, -79.017493], [33.907831, -117.279957], [35.602924, -78.563236], [34.056075, -117.546598], [36.739779, -119.77745], [33.007365, -80.23604300000002], [34.1345, -117.6661], [40.692669, -73.878874], [28.545488, -81.519428], [25.689146, -80.38287199999998], [34.64155, -117.21979], [28.552694, -81.414971], [34.139424, -118.015619], [34.330025, -110.773178], [38.886634, -77.035738], [36.841181, -76.047352], [34.03662, -118.270128], [42.37072, -87.94227], [39.03343, -94.36162], [43.18031, -76.15133], [36.804373, -119.785142], [30.467437, -97.669798], [28.027828000000003, -82.209008], [47.52892, -122.19769], [41.247598, -76.941005], [30.20843300000001, -97.781552], [38.05555, -122.12984], [26.49395100000001, -81.96061], [38.169711, -79.00658], [32.969023, -80.205312], [35.656945, -78.846476], [45.318666, -92.931414], [35.499433, -119.076637], [45.902318, -119.174596], [32.83991, -97.24484], [33.87984, -118.3473], [44.89843, -93.133624], [33.913038, -118.18012], [25.925678, -80.17139300000002], [41.188297, -76.913325], [34.143275, -118.740266], [26.180623, -80.153278], [45.188592, -93.543037], [40.0282, -75.328018], [32.76023, -117.10878], [45.510239, -122.687898], [44.087201, -122.730256], [25.945587, -80.189771], [35.981008, -83.93790200000002], [28.58016, -81.37465999999998], [38.96693, -94.71362], [34.18355, -118.89146399999998], [38.635576, -121.387131], [33.871866, -78.62483], [37.47047, -77.595223], [37.887654, -122.298158], [33.46302, -112.176065], [33.926138, -117.421875], [29.79647000000001, -95.56363], [38.245731, -122.625509], [40.0751, -74.9589], [25.927573, -80.221642], [33.984264, -117.84453700000002], [45.27427700000001, -122.774078], [26.679764, -80.184212], [32.863514, -96.832587], [38.663975, -121.225628], [40.553079, -78.922315], [47.437375, -115.681005], [34.94991, -82.43939499999998], [32.748967, -117.15578899999998], [34.009789000000005, -117.963411], [45.5284, -122.65357], [30.37327, -81.669667], [41.971613, -85.63548399999998], [38.617746, -121.383078], [37.548776, -77.432978], [34.807411, -92.465893], [26.55010200000001, -81.871523], [45.68939, -121.83889], [40.242049, -75.448715], [33.81625, -118.18759], [30.229462, -97.786254], [37.551215, -77.428067], [39.35587, -76.501847], [34.039204, -118.081072], [33.360581, -80.39872], [47.46665, -115.84397], [40.559962, -111.427069], [41.852386, -72.66453100000003], [38.715916, -122.487934], [47.126629, -122.542991], [40.88121, -77.756928], [37.630326, -120.997757], [26.678711, -81.90010500000002], [34.068356, -118.038085], [28.356886, -80.700248], [38.574545, -121.317791], [40.69313, -73.74479000000002], [34.789463, -80.649658], [37.382578, -121.904402], [34.226928, -80.721913], [32.794090000000004, -96.79255], [42.58069, -85.35675], [33.488132, -112.289149], [34.067399, -117.571285], [38.934503, -121.190658], [38.76021, -77.18327], [44.21787, -93.52947], [37.42652, -121.916681], [38.8161, -77.136565], [30.306567, -97.685525], [43.00344000000001, -76.13372], [32.898629, -96.71904], [36.319524, -82.083462], [36.237777, -86.735051], [34.142858000000004, -117.488427], [33.770889000000004, -117.986994], [34.846142, -82.459737], [31.77816, -106.43819], [37.485704, -120.994512], [34.024314000000004, -117.11136100000002], [32.286492, -110.980341], [34.24689, -118.4249], [34.572105, -118.131548], [38.435224, -122.71712], [41.658965, -93.52836], [35.83965999999999, -78.676591], [36.837416, -119.475534], [42.259091, -88.157526], [41.551543, -96.053649], [36.719022, -86.520177], [32.78184, -96.797329], [44.914469, -93.449427], [37.004819, -119.95597], [38.11539000000001, -121.485492], [41.72711, -87.62476], [47.975825, -122.190574], [40.861596, -76.549198], [44.964734, -93.244754], [33.958559, -118.231222], [35.090634, -81.69139], [38.495441, -122.96242], [34.15667, -118.41753], [26.09378, -80.16883], [47.181145, -122.464781], [39.550595, -123.381004], [39.79111, -77.73116], [45.05668, -93.134289], [42.930974, -73.48586], [38.631126, -121.519742], [25.896463, -80.211109], [37.332126, -120.433868], [45.0646, -94.328437], [32.862165999999995, -96.808584], [35.779762, -78.620728], [37.983275, -122.041624], [35.317629, -119.005814], [33.073559, -117.070249], [32.821323, -96.870341], [27.894664, -82.338662], [25.809259, -80.317841], [32.80477, -79.93689], [38.091631, -84.487874], [42.197509, -88.078183], [41.774241, -87.946708], [34.920603, -81.292928], [38.15248, -85.76553], [39.173179, -122.941956], [38.492555, -78.872008], [33.624247, -86.734024], [36.082763, -86.688538], [38.524121, -121.334902], [39.25727, -76.67603000000003], [39.645474, -110.860039], [33.990761, -117.933884], [35.95502800000001, -79.364276], [39.96524, -74.91301999999997], [38.86728400000001, -121.954327], [39.124042, -121.533171], [42.67393, -71.174798], [29.916765, -82.554282], [33.585498, -117.671614], [32.7872, -96.62435], [41.86059, -87.9927], [37.824842, -122.270235], [25.808597, -80.256483], [34.838443, -81.681686], [26.161646, -80.163038], [39.330963, -77.66663], [34.034583000000005, -118.345728], [26.707003000000004, -80.114471], [45.199914, -123.180262], [34.0749, -118.23223], [36.730285, -119.286143], [38.963102, -94.726338], [42.391969, -87.855214], [41.99903, -87.86596999999998], [30.388154, -91.181009], [43.298889, -75.47340200000002], [39.907682, -104.99093700000002], [41.672869, -72.885006], [25.810097, -80.33891899999998], [40.71248, -74.31703], [34.92986, -91.105316], [37.194829, -77.59579699999998], [34.06645, -118.01802], [40.45095, -80.16888], [35.100067, -85.187632], [44.12702, -92.52241], [42.89679, -85.678], [37.58453, -121.87323], [47.68023, -122.32076], [34.838644, -111.604474], [39.957997, -74.918494], [33.365942, -117.24983], [40.173184, -75.12807099999998], [39.007827, -94.854186], [30.435379, -83.487843], [29.953526, -95.538099], [37.333916, -120.576588], [25.634615, -80.414811], [28.327372, -82.501548], [39.1661, -94.59296], [34.030441, -117.605799], [34.134891, -117.601486], [36.958892, -76.410589], [32.745383000000004, -117.119976], [36.561332, -119.521173], [39.322338, -75.609589], [40.062621, -76.541933], [33.501670000000004, -86.81465], [42.668098, -71.07752099999998], [38.7694, -121.24936], [32.38028, -90.14703], [25.846972, -80.21169300000003], [39.306432, -76.743847], [33.68607, -84.49986], [35.354529, -119.447661], [34.118426, -117.841429], [41.433973, -72.802585], [40.831937, -73.873861], [34.072088, -117.911241], [33.058662, -117.070373], [41.18574, -73.866822], [38.27452, -85.50081], [38.117667, -122.565258], [40.127121, -111.956841], [32.870739, -96.99813], [36.767744, -119.781358], [41.75587, -77.95007], [39.005811, -77.076141], [38.70972800000001, -77.261426], [28.09364, -82.77233000000003], [33.74345, -84.38338], [30.445365, -91.111639], [44.7975, -93.28942], [33.803705, -117.967573], [42.40836, -83.07694000000002], [39.030245, -76.853528], [42.427815, -83.094438], [35.817242, -78.607188], [44.65702, -93.67529], [36.17489000000001, -115.14239], [42.70991, -84.66919], [38.6167, -121.42048], [25.925334, -80.26317900000002], [33.837312, -117.876205], [39.013241, -77.144921], [26.551832, -81.872232], [33.928628, -118.368519], [40.845951, -73.930042], [25.950008, -80.14885], [39.035259, -77.410762], [25.687695, -80.384231], [45.254262, -119.739872], [29.040722, -82.162377], [33.93098, -118.293212], [35.118449, -118.986945], [30.728693, -85.939537], [41.535349, -73.42319], [36.11484, -86.71951], [36.31907, -86.7028], [27.99606, -82.51850400000002], [38.295671, -120.285582], [38.497118, -121.409046], [38.58962, -121.446197], [33.827290000000005, -118.08229], [25.632439, -80.391255], [33.904183, -117.560116], [29.991238, -90.058759], [32.763279, -117.10868899999998], [34.12972, -117.93368999999998], [41.195013, -111.115285], [35.041385, -85.129972], [32.87283, -117.10697], [37.784877, -122.39266], [33.94117, -118.09671000000002], [25.726178, -80.44765600000002], [33.896808, -117.483055], [34.089921999999994, -117.302018], [26.282212, -80.125037], [35.22400000000001, -80.74781], [38.396128, -78.23360699999998], [26.52795900000001, -80.17421999999998], [32.809985, -97.314481], [34.043869, -117.763559], [29.70884, -95.37661], [30.678889, -87.06559], [34.781645000000005, -82.473136], [35.84119099999999, -78.67847900000002], [47.38164, -120.594209], [34.08702, -117.684682], [30.211422, -81.513784], [39.982433, -75.920813], [38.91313, -76.85022], [28.51465300000001, -81.392264], [33.763009000000004, -117.972349], [46.446748, -94.042968], [25.839916, -80.315895], [47.36236, -122.29566], [30.448613, -91.180467], [44.18148, -93.94919], [33.841957, -117.296372], [25.787326, -80.197266], [42.44629000000001, -83.20518100000002], [45.62554, -94.5713], [38.416092, -82.29205400000002], [40.68336, -73.679761], [38.40202100000001, -104.616933], [33.959326000000004, -117.31021], [30.920522, -87.44178000000002], [25.883515, -80.214325], [36.779601, -121.776826], [42.308885, -122.845765], [35.30125, -79.72878], [48.805171, -115.134687], [25.700118, -80.410889], [43.526585, -93.354418], [41.465739, -87.323337], [34.019269, -117.480422], [42.41973, -73.672921], [33.029948, -96.992774], [32.804291, -96.821276], [38.25578, -122.06447], [39.044605, -94.384113], [40.25545, -76.86179], [43.665558, -73.774491], [45.534826, -118.453265], [35.91237, -78.78192], [35.080748, -120.586724], [26.248569, -80.13646899999998], [28.582166, -81.476052], [44.367153, -70.59486700000002], [33.600513, -111.891643], [46.35618, -94.220244], [32.96118, -96.72705], [35.153003000000005, -119.456351], [40.14414, -75.54852], [37.61442, -77.539851], [44.05274, -121.30719], [34.032678000000004, -118.310778], [25.910988, -80.21011999999997], [34.58119, -118.13364], [33.831614, -117.93099], [34.104019, -81.468704], [44.047428, -123.538648], [40.86162, -111.896327], [37.164587, -77.414477], [33.898140999999995, -118.37018], [30.888038, -87.460143], [38.283338, -122.71338], [41.87558, -87.63718], [38.88948, -76.97575], [36.059112, -79.620918], [25.76972, -80.333946], [33.546731, -112.271237], [42.193223, -72.93236], [37.14342, -121.984859], [34.014108, -118.159205], [45.60281, -121.180611], [34.054203, -118.203196], [34.235589000000004, -118.472957], [47.65404, -117.36491], [34.056125, -118.241182], [33.9874, -118.3961], [26.050218, -80.214766]],\n",
              "                {&quot;blur&quot;: 15, &quot;maxZoom&quot;: 18, &quot;minOpacity&quot;: 0.5, &quot;radius&quot;: 25}\n",
              "            ).addTo(map_bd6b07ef00bb7b6b45d8b80b92f88256);\n",
              "        \n",
              "&lt;/script&gt;\" style=\"position:absolute;width:100%;height:100%;left:0;top:0;border:none !important;\" allowfullscreen webkitallowfullscreen mozallowfullscreen></iframe></div></div>"
            ]
          },
          "metadata": {},
          "execution_count": 67
        }
      ]
    },
    {
      "cell_type": "code",
      "source": [
        ""
      ],
      "metadata": {
        "id": "VmKwpl9uGtyV"
      },
      "execution_count": null,
      "outputs": []
    },
    {
      "cell_type": "code",
      "source": [
        ""
      ],
      "metadata": {
        "id": "8Do7VReFGt2g"
      },
      "execution_count": null,
      "outputs": []
    },
    {
      "cell_type": "code",
      "source": [
        ""
      ],
      "metadata": {
        "id": "xT3E8r2eGt42"
      },
      "execution_count": null,
      "outputs": []
    },
    {
      "cell_type": "code",
      "source": [
        ""
      ],
      "metadata": {
        "id": "1stQYCksGt7D"
      },
      "execution_count": null,
      "outputs": []
    },
    {
      "cell_type": "code",
      "source": [
        ""
      ],
      "metadata": {
        "id": "ChaSbXIXGt9U"
      },
      "execution_count": null,
      "outputs": []
    },
    {
      "cell_type": "code",
      "source": [
        ""
      ],
      "metadata": {
        "id": "h1wag1B5GuAJ"
      },
      "execution_count": null,
      "outputs": []
    },
    {
      "cell_type": "code",
      "source": [
        ""
      ],
      "metadata": {
        "id": "n3zFa-46GuDN"
      },
      "execution_count": null,
      "outputs": []
    },
    {
      "cell_type": "code",
      "source": [
        ""
      ],
      "metadata": {
        "id": "sgW9lISxGuGU"
      },
      "execution_count": null,
      "outputs": []
    },
    {
      "cell_type": "code",
      "source": [
        ""
      ],
      "metadata": {
        "id": "5NJhqIwdGuJ7"
      },
      "execution_count": null,
      "outputs": []
    },
    {
      "cell_type": "code",
      "source": [
        ""
      ],
      "metadata": {
        "id": "292emlIeGuNH"
      },
      "execution_count": null,
      "outputs": []
    },
    {
      "cell_type": "code",
      "source": [
        ""
      ],
      "metadata": {
        "id": "la4DDJChGuQK"
      },
      "execution_count": null,
      "outputs": []
    },
    {
      "cell_type": "code",
      "source": [
        ""
      ],
      "metadata": {
        "id": "CkDnFyYiGuTl"
      },
      "execution_count": null,
      "outputs": []
    },
    {
      "cell_type": "code",
      "source": [
        ""
      ],
      "metadata": {
        "id": "eEskHjBsGuXG"
      },
      "execution_count": null,
      "outputs": []
    },
    {
      "cell_type": "code",
      "source": [
        ""
      ],
      "metadata": {
        "id": "bcMHvO1TGua9"
      },
      "execution_count": null,
      "outputs": []
    },
    {
      "cell_type": "code",
      "source": [
        ""
      ],
      "metadata": {
        "id": "D7DOnAC9GudL"
      },
      "execution_count": null,
      "outputs": []
    },
    {
      "cell_type": "code",
      "source": [
        ""
      ],
      "metadata": {
        "id": "G44mSvK69xN1"
      },
      "execution_count": null,
      "outputs": []
    },
    {
      "cell_type": "code",
      "source": [
        ""
      ],
      "metadata": {
        "id": "Ey42GqXE9xRN"
      },
      "execution_count": null,
      "outputs": []
    },
    {
      "cell_type": "code",
      "source": [
        ""
      ],
      "metadata": {
        "id": "OcSq2nAR9xWO"
      },
      "execution_count": null,
      "outputs": []
    },
    {
      "cell_type": "code",
      "source": [
        ""
      ],
      "metadata": {
        "id": "L5gd_TUE9xZk"
      },
      "execution_count": null,
      "outputs": []
    },
    {
      "cell_type": "code",
      "source": [
        ""
      ],
      "metadata": {
        "id": "sAgczoFl9xb4"
      },
      "execution_count": null,
      "outputs": []
    },
    {
      "cell_type": "code",
      "source": [
        ""
      ],
      "metadata": {
        "id": "j2FHzNQf9xfA"
      },
      "execution_count": null,
      "outputs": []
    },
    {
      "cell_type": "code",
      "source": [
        ""
      ],
      "metadata": {
        "id": "zJyzQRsr9xig"
      },
      "execution_count": null,
      "outputs": []
    },
    {
      "cell_type": "code",
      "source": [
        ""
      ],
      "metadata": {
        "id": "oEy_pu0G9xmC"
      },
      "execution_count": null,
      "outputs": []
    },
    {
      "cell_type": "code",
      "source": [
        ""
      ],
      "metadata": {
        "id": "8Ljr5OAI9xpt"
      },
      "execution_count": null,
      "outputs": []
    },
    {
      "cell_type": "code",
      "source": [
        ""
      ],
      "metadata": {
        "id": "XxUQLbbb9xsD"
      },
      "execution_count": null,
      "outputs": []
    },
    {
      "cell_type": "code",
      "source": [
        ""
      ],
      "metadata": {
        "id": "uwQuqz9I9xvd"
      },
      "execution_count": null,
      "outputs": []
    },
    {
      "cell_type": "code",
      "source": [
        ""
      ],
      "metadata": {
        "id": "s7Aazoii9xyz"
      },
      "execution_count": null,
      "outputs": []
    },
    {
      "cell_type": "code",
      "source": [
        ""
      ],
      "metadata": {
        "id": "C5z98yO39x2D"
      },
      "execution_count": null,
      "outputs": []
    },
    {
      "cell_type": "code",
      "source": [
        ""
      ],
      "metadata": {
        "id": "Xv43ry1Q9x5N"
      },
      "execution_count": null,
      "outputs": []
    },
    {
      "cell_type": "code",
      "source": [
        ""
      ],
      "metadata": {
        "id": "OwrdP5gE9tqI"
      },
      "execution_count": null,
      "outputs": []
    },
    {
      "cell_type": "code",
      "source": [
        ""
      ],
      "metadata": {
        "id": "v3pQCvOD9tvz"
      },
      "execution_count": null,
      "outputs": []
    },
    {
      "cell_type": "code",
      "source": [
        ""
      ],
      "metadata": {
        "id": "xH3D0qVv9tyn"
      },
      "execution_count": null,
      "outputs": []
    },
    {
      "cell_type": "code",
      "source": [
        ""
      ],
      "metadata": {
        "id": "HgD-uqLN9t1e"
      },
      "execution_count": null,
      "outputs": []
    },
    {
      "cell_type": "code",
      "source": [
        ""
      ],
      "metadata": {
        "id": "Olpta98E9t41"
      },
      "execution_count": null,
      "outputs": []
    },
    {
      "cell_type": "code",
      "source": [
        ""
      ],
      "metadata": {
        "id": "hJ-XEWdc9t8S"
      },
      "execution_count": null,
      "outputs": []
    },
    {
      "cell_type": "code",
      "source": [
        ""
      ],
      "metadata": {
        "id": "Du2Hi1XU9t_O"
      },
      "execution_count": null,
      "outputs": []
    },
    {
      "cell_type": "code",
      "source": [
        ""
      ],
      "metadata": {
        "id": "ml8f5rhb9uC-"
      },
      "execution_count": null,
      "outputs": []
    },
    {
      "cell_type": "code",
      "source": [
        ""
      ],
      "metadata": {
        "id": "Hf3mpG9L9uF-"
      },
      "execution_count": null,
      "outputs": []
    },
    {
      "cell_type": "code",
      "source": [
        ""
      ],
      "metadata": {
        "id": "8tR66ps_9uJS"
      },
      "execution_count": null,
      "outputs": []
    },
    {
      "cell_type": "code",
      "source": [
        ""
      ],
      "metadata": {
        "id": "gFZa6OkV9uMu"
      },
      "execution_count": null,
      "outputs": []
    },
    {
      "cell_type": "code",
      "source": [
        ""
      ],
      "metadata": {
        "id": "It6W-0Zw9uPk"
      },
      "execution_count": null,
      "outputs": []
    },
    {
      "cell_type": "code",
      "source": [
        ""
      ],
      "metadata": {
        "id": "q_Xi9keo9uS6"
      },
      "execution_count": null,
      "outputs": []
    },
    {
      "cell_type": "code",
      "source": [
        ""
      ],
      "metadata": {
        "id": "JplImAGZ9uV2"
      },
      "execution_count": null,
      "outputs": []
    },
    {
      "cell_type": "code",
      "source": [
        ""
      ],
      "metadata": {
        "id": "QHKVn0Iv9uZA"
      },
      "execution_count": null,
      "outputs": []
    },
    {
      "cell_type": "code",
      "source": [
        ""
      ],
      "metadata": {
        "id": "NBfA4f5O9ub9"
      },
      "execution_count": null,
      "outputs": []
    },
    {
      "cell_type": "code",
      "source": [
        ""
      ],
      "metadata": {
        "id": "DeOkHMJd9ufP"
      },
      "execution_count": null,
      "outputs": []
    },
    {
      "cell_type": "code",
      "source": [
        ""
      ],
      "metadata": {
        "id": "GVLIDZrx9uhw"
      },
      "execution_count": null,
      "outputs": []
    },
    {
      "cell_type": "code",
      "source": [
        ""
      ],
      "metadata": {
        "id": "mGPuI_xP9unb"
      },
      "execution_count": null,
      "outputs": []
    },
    {
      "cell_type": "code",
      "source": [
        ""
      ],
      "metadata": {
        "id": "DsW0JO4b9uqE"
      },
      "execution_count": null,
      "outputs": []
    },
    {
      "cell_type": "code",
      "source": [
        ""
      ],
      "metadata": {
        "id": "9xvcMj-a9uvA"
      },
      "execution_count": null,
      "outputs": []
    },
    {
      "cell_type": "code",
      "source": [
        ""
      ],
      "metadata": {
        "id": "H0FxljKB9uyb"
      },
      "execution_count": null,
      "outputs": []
    },
    {
      "cell_type": "code",
      "source": [
        ""
      ],
      "metadata": {
        "id": "D13g3T4T9u08"
      },
      "execution_count": null,
      "outputs": []
    },
    {
      "cell_type": "code",
      "source": [
        ""
      ],
      "metadata": {
        "id": "_1tNYKz_9u3p"
      },
      "execution_count": null,
      "outputs": []
    },
    {
      "cell_type": "code",
      "source": [
        ""
      ],
      "metadata": {
        "id": "HONXqIkF9u6k"
      },
      "execution_count": null,
      "outputs": []
    },
    {
      "cell_type": "code",
      "source": [
        ""
      ],
      "metadata": {
        "id": "dqImK2VC9u9c"
      },
      "execution_count": null,
      "outputs": []
    },
    {
      "cell_type": "code",
      "source": [
        ""
      ],
      "metadata": {
        "id": "yoAeE15R813D"
      },
      "execution_count": null,
      "outputs": []
    }
  ]
}